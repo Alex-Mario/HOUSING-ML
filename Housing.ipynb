{
 "cells": [
  {
   "cell_type": "markdown",
   "id": "4a5314c4-6ba0-460f-9f3c-71f92bf9fb55",
   "metadata": {
    "tags": []
   },
   "source": [
    "# HOUSING DATA"
   ]
  },
  {
   "cell_type": "markdown",
   "id": "7ecc5e0a-fd28-44b2-9475-b4c87ae1567b",
   "metadata": {},
   "source": [
    "> A simple yet challenging project, to predict the housing price based on certain factors like house area, bedprice, furnished, nearness to mainroad, etc. \n",
    "The dataset is small yet, it's complexity arises due to the fact that it has strong multicollinearity. "
   ]
  },
  {
   "cell_type": "markdown",
   "id": "409f3aaf-c0b3-46fe-9c3d-01efbaf65bdc",
   "metadata": {},
   "source": [
    "## FEATURE DESCRIPTION"
   ]
  },
  {
   "cell_type": "markdown",
   "id": "960d128e-4d41-4b46-8f7d-c48db6aa58aa",
   "metadata": {},
   "source": [
    "> Data Dictionary:\n",
    ">- price: Price of the Houses\n",
    ">- area:Area of a House\n",
    ">- bedprice: Number of House Bedprice\n",
    ">- bathprice: Number if Bathprice\n",
    ">- stories: Number of House Stories\n",
    ">- mainroad: Wether connected to Main Road\n",
    ">- guestroom: Wether has a guest room\n",
    ">- basement: Wether has a basement\n",
    ">- hotwaterheating: Wether has a hotwater heater\n",
    ">- airconditioning: Wether has an airconditioning\n",
    ">- parking: Number of House Parkings\n",
    ">- prefarea: Prefarea of the House\n",
    ">- furnishingstatus: Furnishing status of the House"
   ]
  },
  {
   "cell_type": "markdown",
   "id": "e596daee-eb84-4eab-973b-bbb9ef325293",
   "metadata": {
    "tags": []
   },
   "source": [
    "## IMPORT LIBRARIES"
   ]
  },
  {
   "cell_type": "code",
   "execution_count": 1,
   "id": "951d29d8-97dd-4b6a-b447-4b8df286486a",
   "metadata": {},
   "outputs": [],
   "source": [
    "import pandas as pd\n",
    "import numpy as np\n",
    "import seaborn as sns\n",
    "import matplotlib.pyplot as plt\n",
    "\n",
    "import warnings\n",
    "warnings.filterwarnings(\"ignore\")\n",
    "\n",
    "from scipy import stats\n",
    "import statsmodels.api as sm\n",
    "\n",
    "# import library untuk encoder\n",
    "from sklearn.preprocessing import LabelEncoder, OrdinalEncoder\n",
    "\n",
    "# import library untuk scaling\n",
    "from sklearn.preprocessing import StandardScaler, MinMaxScaler, RobustScaler\n",
    "\n",
    "# import library untuk selection\n",
    "from sklearn.feature_selection import SelectKBest, chi2, f_classif, f_regression\n",
    "from sklearn.ensemble import ExtraTreesClassifier, ExtraTreesRegressor\n",
    "\n",
    "#import library untuk modeling\n",
    "from sklearn.model_selection import train_test_split\n",
    "from sklearn.linear_model import LinearRegression\n",
    "from sklearn import metrics\n",
    "from sklearn.tree import DecisionTreeRegressor, plot_tree, export_graphviz\n",
    "\n",
    "# import vif dari statsmodel\n",
    "from statsmodels.stats.outliers_influence import variance_inflation_factor"
   ]
  },
  {
   "cell_type": "markdown",
   "id": "02932a97-2f8b-4bbe-a5d3-3b869a923789",
   "metadata": {},
   "source": [
    "## OVERVIEW"
   ]
  },
  {
   "cell_type": "markdown",
   "id": "9f140a26-2d0a-4e2b-b842-9e5f09c0a0a6",
   "metadata": {},
   "source": [
    "> load semua datanya"
   ]
  },
  {
   "cell_type": "code",
   "execution_count": 2,
   "id": "ef6e26c0-fa4c-4773-8cff-aff389d68a8c",
   "metadata": {},
   "outputs": [],
   "source": [
    "df = pd.read_csv(\"../Data/Housing.csv\")"
   ]
  },
  {
   "cell_type": "code",
   "execution_count": 3,
   "id": "ce991541-88f2-4e35-be0a-2111b9cc00ef",
   "metadata": {},
   "outputs": [
    {
     "data": {
      "text/html": [
       "<div>\n",
       "<style scoped>\n",
       "    .dataframe tbody tr th:only-of-type {\n",
       "        vertical-align: middle;\n",
       "    }\n",
       "\n",
       "    .dataframe tbody tr th {\n",
       "        vertical-align: top;\n",
       "    }\n",
       "\n",
       "    .dataframe thead th {\n",
       "        text-align: right;\n",
       "    }\n",
       "</style>\n",
       "<table border=\"1\" class=\"dataframe\">\n",
       "  <thead>\n",
       "    <tr style=\"text-align: right;\">\n",
       "      <th></th>\n",
       "      <th>price</th>\n",
       "      <th>area</th>\n",
       "      <th>bedrooms</th>\n",
       "      <th>bathrooms</th>\n",
       "      <th>stories</th>\n",
       "      <th>mainroad</th>\n",
       "      <th>guestroom</th>\n",
       "      <th>basement</th>\n",
       "      <th>hotwaterheating</th>\n",
       "      <th>airconditioning</th>\n",
       "      <th>parking</th>\n",
       "      <th>prefarea</th>\n",
       "      <th>furnishingstatus</th>\n",
       "    </tr>\n",
       "  </thead>\n",
       "  <tbody>\n",
       "    <tr>\n",
       "      <th>0</th>\n",
       "      <td>13300000</td>\n",
       "      <td>7420</td>\n",
       "      <td>4</td>\n",
       "      <td>2</td>\n",
       "      <td>3</td>\n",
       "      <td>yes</td>\n",
       "      <td>no</td>\n",
       "      <td>no</td>\n",
       "      <td>no</td>\n",
       "      <td>yes</td>\n",
       "      <td>2</td>\n",
       "      <td>yes</td>\n",
       "      <td>furnished</td>\n",
       "    </tr>\n",
       "    <tr>\n",
       "      <th>1</th>\n",
       "      <td>12250000</td>\n",
       "      <td>8960</td>\n",
       "      <td>4</td>\n",
       "      <td>4</td>\n",
       "      <td>4</td>\n",
       "      <td>yes</td>\n",
       "      <td>no</td>\n",
       "      <td>no</td>\n",
       "      <td>no</td>\n",
       "      <td>yes</td>\n",
       "      <td>3</td>\n",
       "      <td>no</td>\n",
       "      <td>furnished</td>\n",
       "    </tr>\n",
       "    <tr>\n",
       "      <th>2</th>\n",
       "      <td>12250000</td>\n",
       "      <td>9960</td>\n",
       "      <td>3</td>\n",
       "      <td>2</td>\n",
       "      <td>2</td>\n",
       "      <td>yes</td>\n",
       "      <td>no</td>\n",
       "      <td>yes</td>\n",
       "      <td>no</td>\n",
       "      <td>no</td>\n",
       "      <td>2</td>\n",
       "      <td>yes</td>\n",
       "      <td>semi-furnished</td>\n",
       "    </tr>\n",
       "    <tr>\n",
       "      <th>3</th>\n",
       "      <td>12215000</td>\n",
       "      <td>7500</td>\n",
       "      <td>4</td>\n",
       "      <td>2</td>\n",
       "      <td>2</td>\n",
       "      <td>yes</td>\n",
       "      <td>no</td>\n",
       "      <td>yes</td>\n",
       "      <td>no</td>\n",
       "      <td>yes</td>\n",
       "      <td>3</td>\n",
       "      <td>yes</td>\n",
       "      <td>furnished</td>\n",
       "    </tr>\n",
       "    <tr>\n",
       "      <th>4</th>\n",
       "      <td>11410000</td>\n",
       "      <td>7420</td>\n",
       "      <td>4</td>\n",
       "      <td>1</td>\n",
       "      <td>2</td>\n",
       "      <td>yes</td>\n",
       "      <td>yes</td>\n",
       "      <td>yes</td>\n",
       "      <td>no</td>\n",
       "      <td>yes</td>\n",
       "      <td>2</td>\n",
       "      <td>no</td>\n",
       "      <td>furnished</td>\n",
       "    </tr>\n",
       "  </tbody>\n",
       "</table>\n",
       "</div>"
      ],
      "text/plain": [
       "      price  area  bedrooms  bathrooms  stories mainroad guestroom basement  \\\n",
       "0  13300000  7420         4          2        3      yes        no       no   \n",
       "1  12250000  8960         4          4        4      yes        no       no   \n",
       "2  12250000  9960         3          2        2      yes        no      yes   \n",
       "3  12215000  7500         4          2        2      yes        no      yes   \n",
       "4  11410000  7420         4          1        2      yes       yes      yes   \n",
       "\n",
       "  hotwaterheating airconditioning  parking prefarea furnishingstatus  \n",
       "0              no             yes        2      yes        furnished  \n",
       "1              no             yes        3       no        furnished  \n",
       "2              no              no        2      yes   semi-furnished  \n",
       "3              no             yes        3      yes        furnished  \n",
       "4              no             yes        2       no        furnished  "
      ]
     },
     "execution_count": 3,
     "metadata": {},
     "output_type": "execute_result"
    }
   ],
   "source": [
    "df.head()"
   ]
  },
  {
   "cell_type": "code",
   "execution_count": 4,
   "id": "fb32982f-fb23-4af9-bdde-a2fec8e23db2",
   "metadata": {},
   "outputs": [
    {
     "data": {
      "text/html": [
       "<div>\n",
       "<style scoped>\n",
       "    .dataframe tbody tr th:only-of-type {\n",
       "        vertical-align: middle;\n",
       "    }\n",
       "\n",
       "    .dataframe tbody tr th {\n",
       "        vertical-align: top;\n",
       "    }\n",
       "\n",
       "    .dataframe thead th {\n",
       "        text-align: right;\n",
       "    }\n",
       "</style>\n",
       "<table border=\"1\" class=\"dataframe\">\n",
       "  <thead>\n",
       "    <tr style=\"text-align: right;\">\n",
       "      <th></th>\n",
       "      <th>price</th>\n",
       "      <th>area</th>\n",
       "      <th>bedrooms</th>\n",
       "      <th>bathrooms</th>\n",
       "      <th>stories</th>\n",
       "      <th>mainroad</th>\n",
       "      <th>guestroom</th>\n",
       "      <th>basement</th>\n",
       "      <th>hotwaterheating</th>\n",
       "      <th>airconditioning</th>\n",
       "      <th>parking</th>\n",
       "      <th>prefarea</th>\n",
       "      <th>furnishingstatus</th>\n",
       "    </tr>\n",
       "  </thead>\n",
       "  <tbody>\n",
       "    <tr>\n",
       "      <th>540</th>\n",
       "      <td>1820000</td>\n",
       "      <td>3000</td>\n",
       "      <td>2</td>\n",
       "      <td>1</td>\n",
       "      <td>1</td>\n",
       "      <td>yes</td>\n",
       "      <td>no</td>\n",
       "      <td>yes</td>\n",
       "      <td>no</td>\n",
       "      <td>no</td>\n",
       "      <td>2</td>\n",
       "      <td>no</td>\n",
       "      <td>unfurnished</td>\n",
       "    </tr>\n",
       "    <tr>\n",
       "      <th>541</th>\n",
       "      <td>1767150</td>\n",
       "      <td>2400</td>\n",
       "      <td>3</td>\n",
       "      <td>1</td>\n",
       "      <td>1</td>\n",
       "      <td>no</td>\n",
       "      <td>no</td>\n",
       "      <td>no</td>\n",
       "      <td>no</td>\n",
       "      <td>no</td>\n",
       "      <td>0</td>\n",
       "      <td>no</td>\n",
       "      <td>semi-furnished</td>\n",
       "    </tr>\n",
       "    <tr>\n",
       "      <th>542</th>\n",
       "      <td>1750000</td>\n",
       "      <td>3620</td>\n",
       "      <td>2</td>\n",
       "      <td>1</td>\n",
       "      <td>1</td>\n",
       "      <td>yes</td>\n",
       "      <td>no</td>\n",
       "      <td>no</td>\n",
       "      <td>no</td>\n",
       "      <td>no</td>\n",
       "      <td>0</td>\n",
       "      <td>no</td>\n",
       "      <td>unfurnished</td>\n",
       "    </tr>\n",
       "    <tr>\n",
       "      <th>543</th>\n",
       "      <td>1750000</td>\n",
       "      <td>2910</td>\n",
       "      <td>3</td>\n",
       "      <td>1</td>\n",
       "      <td>1</td>\n",
       "      <td>no</td>\n",
       "      <td>no</td>\n",
       "      <td>no</td>\n",
       "      <td>no</td>\n",
       "      <td>no</td>\n",
       "      <td>0</td>\n",
       "      <td>no</td>\n",
       "      <td>furnished</td>\n",
       "    </tr>\n",
       "    <tr>\n",
       "      <th>544</th>\n",
       "      <td>1750000</td>\n",
       "      <td>3850</td>\n",
       "      <td>3</td>\n",
       "      <td>1</td>\n",
       "      <td>2</td>\n",
       "      <td>yes</td>\n",
       "      <td>no</td>\n",
       "      <td>no</td>\n",
       "      <td>no</td>\n",
       "      <td>no</td>\n",
       "      <td>0</td>\n",
       "      <td>no</td>\n",
       "      <td>unfurnished</td>\n",
       "    </tr>\n",
       "  </tbody>\n",
       "</table>\n",
       "</div>"
      ],
      "text/plain": [
       "       price  area  bedrooms  bathrooms  stories mainroad guestroom basement  \\\n",
       "540  1820000  3000         2          1        1      yes        no      yes   \n",
       "541  1767150  2400         3          1        1       no        no       no   \n",
       "542  1750000  3620         2          1        1      yes        no       no   \n",
       "543  1750000  2910         3          1        1       no        no       no   \n",
       "544  1750000  3850         3          1        2      yes        no       no   \n",
       "\n",
       "    hotwaterheating airconditioning  parking prefarea furnishingstatus  \n",
       "540              no              no        2       no      unfurnished  \n",
       "541              no              no        0       no   semi-furnished  \n",
       "542              no              no        0       no      unfurnished  \n",
       "543              no              no        0       no        furnished  \n",
       "544              no              no        0       no      unfurnished  "
      ]
     },
     "execution_count": 4,
     "metadata": {},
     "output_type": "execute_result"
    }
   ],
   "source": [
    "df.tail()"
   ]
  },
  {
   "cell_type": "code",
   "execution_count": 5,
   "id": "c1ffead1-2462-476e-a9f3-3a153a287bab",
   "metadata": {},
   "outputs": [
    {
     "name": "stdout",
     "output_type": "stream",
     "text": [
      "<class 'pandas.core.frame.DataFrame'>\n",
      "RangeIndex: 545 entries, 0 to 544\n",
      "Data columns (total 13 columns):\n",
      " #   Column            Non-Null Count  Dtype \n",
      "---  ------            --------------  ----- \n",
      " 0   price             545 non-null    int64 \n",
      " 1   area              545 non-null    int64 \n",
      " 2   bedrooms          545 non-null    int64 \n",
      " 3   bathrooms         545 non-null    int64 \n",
      " 4   stories           545 non-null    int64 \n",
      " 5   mainroad          545 non-null    object\n",
      " 6   guestroom         545 non-null    object\n",
      " 7   basement          545 non-null    object\n",
      " 8   hotwaterheating   545 non-null    object\n",
      " 9   airconditioning   545 non-null    object\n",
      " 10  parking           545 non-null    int64 \n",
      " 11  prefarea          545 non-null    object\n",
      " 12  furnishingstatus  545 non-null    object\n",
      "dtypes: int64(6), object(7)\n",
      "memory usage: 55.5+ KB\n"
     ]
    }
   ],
   "source": [
    "df.info()"
   ]
  },
  {
   "cell_type": "code",
   "execution_count": 6,
   "id": "83119d41-6a60-4567-a24f-f29589cc3395",
   "metadata": {},
   "outputs": [
    {
     "data": {
      "text/plain": [
       "price               0\n",
       "area                0\n",
       "bedrooms            0\n",
       "bathrooms           0\n",
       "stories             0\n",
       "mainroad            0\n",
       "guestroom           0\n",
       "basement            0\n",
       "hotwaterheating     0\n",
       "airconditioning     0\n",
       "parking             0\n",
       "prefarea            0\n",
       "furnishingstatus    0\n",
       "dtype: int64"
      ]
     },
     "execution_count": 6,
     "metadata": {},
     "output_type": "execute_result"
    }
   ],
   "source": [
    "df.isna().sum()"
   ]
  },
  {
   "cell_type": "markdown",
   "id": "575dee1c-e586-4c89-b0cc-52b57a936ecb",
   "metadata": {},
   "source": [
    "> Data sudah bersih dari null values dan sesuai dengan tipe datanya."
   ]
  },
  {
   "cell_type": "markdown",
   "id": "0a5e3c37-5323-463e-94fa-b58c6a8d27e2",
   "metadata": {
    "tags": []
   },
   "source": [
    "## PREPROCESSING"
   ]
  },
  {
   "cell_type": "markdown",
   "id": "08d0d663-0e7f-4e46-91ef-ebfdecebdd03",
   "metadata": {},
   "source": [
    "### DETECTING & HANDLING OUTLIERS"
   ]
  },
  {
   "cell_type": "markdown",
   "id": "1a921f6e-f0ce-4afc-b15c-a48d1bbdecf2",
   "metadata": {},
   "source": [
    "> Kita cek outliers pada data numerik saja"
   ]
  },
  {
   "cell_type": "code",
   "execution_count": 7,
   "id": "03660db2-f325-45ea-b4e7-f730d30eb678",
   "metadata": {},
   "outputs": [
    {
     "name": "stdout",
     "output_type": "stream",
     "text": [
      "<class 'pandas.core.frame.DataFrame'>\n",
      "RangeIndex: 545 entries, 0 to 544\n",
      "Data columns (total 13 columns):\n",
      " #   Column            Non-Null Count  Dtype \n",
      "---  ------            --------------  ----- \n",
      " 0   price             545 non-null    int64 \n",
      " 1   area              545 non-null    int64 \n",
      " 2   bedrooms          545 non-null    int64 \n",
      " 3   bathrooms         545 non-null    int64 \n",
      " 4   stories           545 non-null    int64 \n",
      " 5   mainroad          545 non-null    object\n",
      " 6   guestroom         545 non-null    object\n",
      " 7   basement          545 non-null    object\n",
      " 8   hotwaterheating   545 non-null    object\n",
      " 9   airconditioning   545 non-null    object\n",
      " 10  parking           545 non-null    int64 \n",
      " 11  prefarea          545 non-null    object\n",
      " 12  furnishingstatus  545 non-null    object\n",
      "dtypes: int64(6), object(7)\n",
      "memory usage: 55.5+ KB\n"
     ]
    }
   ],
   "source": [
    "df.info()"
   ]
  },
  {
   "cell_type": "markdown",
   "id": "ffee269e-d882-4d85-8eb4-6d4bf59516ba",
   "metadata": {},
   "source": [
    "> Numerical Data : price, area, bedrooms, bathrooms, stories, parking"
   ]
  },
  {
   "cell_type": "markdown",
   "id": "eb91fa60-2e5a-4ca0-9b38-beaff0876b47",
   "metadata": {},
   "source": [
    "#### price"
   ]
  },
  {
   "cell_type": "markdown",
   "id": "e1064727-13ff-48ef-add6-10efdd5b078e",
   "metadata": {},
   "source": [
    "> Detecting price menggunakan Boxplot"
   ]
  },
  {
   "cell_type": "code",
   "execution_count": 8,
   "id": "f118e0e1-d7c3-4b45-be27-4b8865b3144d",
   "metadata": {},
   "outputs": [
    {
     "data": {
      "image/png": "[encoded data removed]",
      "text/plain": [
       "<Figure size 432x288 with 1 Axes>"
      ]
     },
     "metadata": {
      "needs_background": "light"
     },
     "output_type": "display_data"
    }
   ],
   "source": [
    "sns.boxplot(df[\"price\"])\n",
    "plt.show()"
   ]
  },
  {
   "cell_type": "code",
   "execution_count": 9,
   "id": "9f4e5c73-d3ed-40a5-8749-ec87a1be2bf9",
   "metadata": {},
   "outputs": [
    {
     "name": "stdout",
     "output_type": "stream",
     "text": [
      "Upper Limit: 9205000.0\n"
     ]
    }
   ],
   "source": [
    "# Hitung nilai IQR dan batas atas\n",
    "iqr = df[\"price\"].quantile(.75) - df['price'].quantile(.25)\n",
    "upper_limit = df[\"price\"].quantile(.75) + 1.5 * iqr\n",
    "\n",
    "print(\"Upper Limit:\", upper_limit)"
   ]
  },
  {
   "cell_type": "code",
   "execution_count": 10,
   "id": "6fe94379-389c-42be-806b-7049b125447f",
   "metadata": {},
   "outputs": [
    {
     "data": {
      "text/plain": [
       "9055199.999999993"
      ]
     },
     "execution_count": 10,
     "metadata": {},
     "output_type": "execute_result"
    }
   ],
   "source": [
    "# cari batas quantile untuk winsorize\n",
    "df[\"price\"].quantile(.97)"
   ]
  },
  {
   "cell_type": "code",
   "execution_count": 11,
   "id": "f72d0458-5cc9-4648-abbf-3d7bebf02fe4",
   "metadata": {},
   "outputs": [],
   "source": [
    "# gunakan winsorize dengan bantuan scipy\n",
    "df[\"price\"] = stats.mstats.winsorize(df[\"price\"], limits = (0, 0.03))"
   ]
  },
  {
   "cell_type": "code",
   "execution_count": 12,
   "id": "9e199f46-2714-4465-9456-648459319f30",
   "metadata": {},
   "outputs": [
    {
     "data": {
      "image/png": "[encoded data removed]",
      "text/plain": [
       "<Figure size 432x288 with 1 Axes>"
      ]
     },
     "metadata": {
      "needs_background": "light"
     },
     "output_type": "display_data"
    }
   ],
   "source": [
    "# visualisasi dengan boxplot\n",
    "sns.boxplot(data = df[\"price\"], palette = \"Accent\", orient = 'h')\n",
    "plt.show()"
   ]
  },
  {
   "cell_type": "markdown",
   "id": "707f6e41-bfbb-400e-b0ed-a1aadff05c58",
   "metadata": {},
   "source": [
    "#### area"
   ]
  },
  {
   "cell_type": "markdown",
   "id": "2eb7f0fd-ab64-4fe7-ad97-1dbc00864d67",
   "metadata": {},
   "source": [
    "> Detecting area menggunakan Boxplot"
   ]
  },
  {
   "cell_type": "code",
   "execution_count": 13,
   "id": "6eefb37e-5706-4f0e-bda5-67b61d8f3667",
   "metadata": {},
   "outputs": [
    {
     "data": {
      "image/png": "[encoded data removed]",
      "text/plain": [
       "<Figure size 432x288 with 1 Axes>"
      ]
     },
     "metadata": {
      "needs_background": "light"
     },
     "output_type": "display_data"
    }
   ],
   "source": [
    "sns.boxplot(df[\"area\"])\n",
    "plt.show()"
   ]
  },
  {
   "cell_type": "code",
   "execution_count": 14,
   "id": "d51930a5-abb8-4be2-971e-8004e4766d6e",
   "metadata": {},
   "outputs": [
    {
     "name": "stdout",
     "output_type": "stream",
     "text": [
      "Upper Limit: 10500.0\n"
     ]
    }
   ],
   "source": [
    "# Hitung nilai IQR dan batas atas\n",
    "iqr = df[\"area\"].quantile(.75) - df['area'].quantile(.25)\n",
    "upper_limit = df[\"area\"].quantile(.75) + 1.5 * iqr\n",
    "\n",
    "print(\"Upper Limit:\", upper_limit)"
   ]
  },
  {
   "cell_type": "code",
   "execution_count": 15,
   "id": "a2f62ce4-5150-427c-84af-d13822bb6135",
   "metadata": {},
   "outputs": [
    {
     "data": {
      "text/plain": [
       "10259.72"
      ]
     },
     "execution_count": 15,
     "metadata": {},
     "output_type": "execute_result"
    }
   ],
   "source": [
    "# cari batas quantile untuk winsorize\n",
    "df[\"area\"].quantile(.97)"
   ]
  },
  {
   "cell_type": "code",
   "execution_count": 16,
   "id": "93880d59-53c6-47f5-be68-5b59b9e70182",
   "metadata": {},
   "outputs": [],
   "source": [
    "# gunakan winsorize dengan bantuan scipy\n",
    "df[\"area\"] = stats.mstats.winsorize(df[\"area\"], limits = (0, 0.03))"
   ]
  },
  {
   "cell_type": "code",
   "execution_count": 17,
   "id": "9c2569ea-c763-4d39-92ad-c8f9b3ea2767",
   "metadata": {},
   "outputs": [
    {
     "data": {
      "image/png": "[encoded data removed]",
      "text/plain": [
       "<Figure size 432x288 with 1 Axes>"
      ]
     },
     "metadata": {
      "needs_background": "light"
     },
     "output_type": "display_data"
    }
   ],
   "source": [
    "# visualisasi dengan boxplot\n",
    "sns.boxplot(data = df[\"area\"], palette = \"Accent\", orient = 'h')\n",
    "plt.show()"
   ]
  },
  {
   "cell_type": "markdown",
   "id": "8c6843d0-4053-4e6f-a454-07a0249cad9f",
   "metadata": {},
   "source": [
    "#### bedrooms"
   ]
  },
  {
   "cell_type": "markdown",
   "id": "1f3723eb-0832-4e92-a5ae-9914085f07e9",
   "metadata": {},
   "source": [
    "> Detecting bedrooms menggunakan Boxplot"
   ]
  },
  {
   "cell_type": "code",
   "execution_count": 18,
   "id": "905509d6-0bce-4a89-abec-a1799f8531cb",
   "metadata": {},
   "outputs": [
    {
     "data": {
      "image/png": "[encoded data removed]",
      "text/plain": [
       "<Figure size 432x288 with 1 Axes>"
      ]
     },
     "metadata": {
      "needs_background": "light"
     },
     "output_type": "display_data"
    }
   ],
   "source": [
    "sns.boxplot(df[\"bedrooms\"])\n",
    "plt.show()"
   ]
  },
  {
   "cell_type": "code",
   "execution_count": 19,
   "id": "1298669b-5ff4-40e4-aee2-d2e284415bec",
   "metadata": {},
   "outputs": [
    {
     "name": "stdout",
     "output_type": "stream",
     "text": [
      "Upper Limit: 4.5\n"
     ]
    }
   ],
   "source": [
    "# Hitung nilai IQR dan batas atas\n",
    "iqr = df[\"bedrooms\"].quantile(.75) - df['bedrooms'].quantile(.25)\n",
    "upper_limit = df[\"bedrooms\"].quantile(.75) + 1.5 * iqr\n",
    "\n",
    "print(\"Upper Limit:\", upper_limit)"
   ]
  },
  {
   "cell_type": "code",
   "execution_count": 20,
   "id": "e0234751-a464-462c-b0bc-4e992159b641",
   "metadata": {},
   "outputs": [
    {
     "data": {
      "text/plain": [
       "4.0"
      ]
     },
     "execution_count": 20,
     "metadata": {},
     "output_type": "execute_result"
    }
   ],
   "source": [
    "# cari batas quantile untuk winsorize\n",
    "df[\"bedrooms\"].quantile(.97)"
   ]
  },
  {
   "cell_type": "code",
   "execution_count": 21,
   "id": "5d99ecf3-414d-477e-a5d5-c2abdfe6ca24",
   "metadata": {},
   "outputs": [],
   "source": [
    "# gunakan winsorize dengan bantuan scipy\n",
    "df[\"bedrooms\"] = stats.mstats.winsorize(df[\"bedrooms\"], limits = (0, 0.03))"
   ]
  },
  {
   "cell_type": "code",
   "execution_count": 22,
   "id": "877f0fb1-d2ad-4522-aa68-d86743485761",
   "metadata": {},
   "outputs": [
    {
     "data": {
      "image/png": "[encoded data removed]",
      "text/plain": [
       "<Figure size 432x288 with 1 Axes>"
      ]
     },
     "metadata": {
      "needs_background": "light"
     },
     "output_type": "display_data"
    }
   ],
   "source": [
    "# visualisasi dengan boxplot\n",
    "sns.boxplot(data = df[\"bedrooms\"], palette = \"Accent\", orient = 'h')\n",
    "plt.show()"
   ]
  },
  {
   "cell_type": "markdown",
   "id": "a7a2c01b-8c0e-4665-9ccf-d37e4319dc64",
   "metadata": {},
   "source": [
    "#### bathrooms"
   ]
  },
  {
   "cell_type": "markdown",
   "id": "ff18d9a6-5059-4dee-8948-648f92e58347",
   "metadata": {},
   "source": [
    "> Detecting bathrooms menggunakan Boxplot"
   ]
  },
  {
   "cell_type": "code",
   "execution_count": 23,
   "id": "95cd2aa0-dd05-4bba-8cb2-035240533779",
   "metadata": {},
   "outputs": [
    {
     "data": {
      "image/png": "[encoded data removed]",
      "text/plain": [
       "<Figure size 432x288 with 1 Axes>"
      ]
     },
     "metadata": {
      "needs_background": "light"
     },
     "output_type": "display_data"
    }
   ],
   "source": [
    "sns.boxplot(df[\"bathrooms\"])\n",
    "plt.show()"
   ]
  },
  {
   "cell_type": "code",
   "execution_count": 24,
   "id": "04579a02-2bf4-4c39-b4b1-54a19972010e",
   "metadata": {},
   "outputs": [
    {
     "name": "stdout",
     "output_type": "stream",
     "text": [
      "Upper Limit: 3.5\n"
     ]
    }
   ],
   "source": [
    "# Hitung nilai IQR dan batas atas\n",
    "iqr = df[\"bathrooms\"].quantile(.75) - df['bathrooms'].quantile(.25)\n",
    "upper_limit = df[\"bathrooms\"].quantile(.75) + 1.5 * iqr\n",
    "\n",
    "print(\"Upper Limit:\", upper_limit)"
   ]
  },
  {
   "cell_type": "code",
   "execution_count": 25,
   "id": "0d236bf9-0d40-49ad-9754-b0adbd409c01",
   "metadata": {},
   "outputs": [
    {
     "data": {
      "text/plain": [
       "3.0"
      ]
     },
     "execution_count": 25,
     "metadata": {},
     "output_type": "execute_result"
    }
   ],
   "source": [
    "# cari batas quantile untuk winsorize\n",
    "df[\"bathrooms\"].quantile(.99)"
   ]
  },
  {
   "cell_type": "code",
   "execution_count": 26,
   "id": "f89ad33f-9435-477e-aaf7-bcc21da66a45",
   "metadata": {},
   "outputs": [],
   "source": [
    "# gunakan winsorize dengan bantuan scipy\n",
    "df[\"bathrooms\"] = stats.mstats.winsorize(df[\"bathrooms\"], limits = (0, 0.01))"
   ]
  },
  {
   "cell_type": "code",
   "execution_count": 27,
   "id": "db0830d0-99f6-4d24-a22d-6715f5952538",
   "metadata": {},
   "outputs": [
    {
     "data": {
      "image/png": "[encoded data removed]",
      "text/plain": [
       "<Figure size 432x288 with 1 Axes>"
      ]
     },
     "metadata": {
      "needs_background": "light"
     },
     "output_type": "display_data"
    }
   ],
   "source": [
    "# visualisasi dengan boxplot\n",
    "sns.boxplot(data = df[\"bathrooms\"], palette = \"Accent\", orient = 'h')\n",
    "plt.show()"
   ]
  },
  {
   "cell_type": "markdown",
   "id": "c33a41fa-6ee8-4b4b-bfc3-15e271922150",
   "metadata": {},
   "source": [
    "#### stories"
   ]
  },
  {
   "cell_type": "markdown",
   "id": "81d23988-9215-42b5-9028-0757c218092d",
   "metadata": {},
   "source": [
    "> Detecting stories menggunakan Boxplot"
   ]
  },
  {
   "cell_type": "code",
   "execution_count": 28,
   "id": "622a16d5-b231-49fc-a20d-1a3f821b98ff",
   "metadata": {},
   "outputs": [
    {
     "data": {
      "image/png": "[encoded data removed]",
      "text/plain": [
       "<Figure size 432x288 with 1 Axes>"
      ]
     },
     "metadata": {
      "needs_background": "light"
     },
     "output_type": "display_data"
    }
   ],
   "source": [
    "sns.boxplot(df[\"stories\"])\n",
    "plt.show()"
   ]
  },
  {
   "cell_type": "code",
   "execution_count": 29,
   "id": "864d44e8-4565-41b5-82a6-5fe4b0203336",
   "metadata": {},
   "outputs": [
    {
     "name": "stdout",
     "output_type": "stream",
     "text": [
      "Upper Limit: 3.5\n"
     ]
    }
   ],
   "source": [
    "# Hitung nilai IQR dan batas atas\n",
    "iqr = df[\"stories\"].quantile(.75) - df['stories'].quantile(.25)\n",
    "upper_limit = df[\"stories\"].quantile(.75) + 1.5 * iqr\n",
    "\n",
    "print(\"Upper Limit:\", upper_limit)"
   ]
  },
  {
   "cell_type": "code",
   "execution_count": 30,
   "id": "8e72e913-49f1-41c0-a518-5fd0c7d50a77",
   "metadata": {},
   "outputs": [
    {
     "data": {
      "text/plain": [
       "3.0"
      ]
     },
     "execution_count": 30,
     "metadata": {},
     "output_type": "execute_result"
    }
   ],
   "source": [
    "# cari batas quantile untuk winsorize\n",
    "df[\"stories\"].quantile(.92)"
   ]
  },
  {
   "cell_type": "code",
   "execution_count": 31,
   "id": "df73eaf9-05e4-4495-8c81-c841c2ba572b",
   "metadata": {},
   "outputs": [],
   "source": [
    "# gunakan winsorize dengan bantuan scipy\n",
    "df[\"stories\"] = stats.mstats.winsorize(df[\"stories\"], limits = (0, 0.08))"
   ]
  },
  {
   "cell_type": "code",
   "execution_count": 32,
   "id": "c6571582-5752-485d-aa4f-566fe7548893",
   "metadata": {},
   "outputs": [
    {
     "data": {
      "image/png": "[encoded data removed]",
      "text/plain": [
       "<Figure size 432x288 with 1 Axes>"
      ]
     },
     "metadata": {
      "needs_background": "light"
     },
     "output_type": "display_data"
    }
   ],
   "source": [
    "# visualisasi dengan boxplot\n",
    "sns.boxplot(data = df[\"stories\"], palette = \"Accent\", orient = 'h')\n",
    "plt.show()"
   ]
  },
  {
   "cell_type": "markdown",
   "id": "5c435b61-f339-4b30-b1ca-9da2c88ecdf6",
   "metadata": {},
   "source": [
    "#### parking"
   ]
  },
  {
   "cell_type": "markdown",
   "id": "09f63fbf-bea5-4269-9911-1e4aefc177d1",
   "metadata": {},
   "source": [
    "> Detecting parking menggunakan Boxplot"
   ]
  },
  {
   "cell_type": "code",
   "execution_count": 33,
   "id": "693e374d-b62b-49ee-af05-07ee467775a7",
   "metadata": {},
   "outputs": [
    {
     "data": {
      "image/png": "[encoded data removed]",
      "text/plain": [
       "<Figure size 432x288 with 1 Axes>"
      ]
     },
     "metadata": {
      "needs_background": "light"
     },
     "output_type": "display_data"
    }
   ],
   "source": [
    "sns.boxplot(df[\"parking\"])\n",
    "plt.show()"
   ]
  },
  {
   "cell_type": "code",
   "execution_count": 34,
   "id": "c76515db-6a9e-46df-9738-8e8e5296443b",
   "metadata": {},
   "outputs": [
    {
     "name": "stdout",
     "output_type": "stream",
     "text": [
      "Upper Limit: 2.5\n"
     ]
    }
   ],
   "source": [
    "# Hitung nilai IQR dan batas atas\n",
    "iqr = df[\"parking\"].quantile(.75) - df['parking'].quantile(.25)\n",
    "upper_limit = df[\"parking\"].quantile(.75) + 1.5 * iqr\n",
    "\n",
    "print(\"Upper Limit:\", upper_limit)"
   ]
  },
  {
   "cell_type": "code",
   "execution_count": 35,
   "id": "7877e425-bede-48e0-9420-4929fe7e8ed0",
   "metadata": {},
   "outputs": [
    {
     "data": {
      "text/plain": [
       "2.0"
      ]
     },
     "execution_count": 35,
     "metadata": {},
     "output_type": "execute_result"
    }
   ],
   "source": [
    "# cari batas quantile untuk winsorize\n",
    "df[\"parking\"].quantile(.97)"
   ]
  },
  {
   "cell_type": "code",
   "execution_count": 36,
   "id": "e33314b2-55e6-49e2-9246-d3d153d8de84",
   "metadata": {},
   "outputs": [],
   "source": [
    "# gunakan winsorize dengan bantuan scipy\n",
    "df[\"parking\"] = stats.mstats.winsorize(df[\"parking\"], limits = (0, 0.03))"
   ]
  },
  {
   "cell_type": "code",
   "execution_count": 37,
   "id": "67f88aca-a52b-456e-bc4f-4b5b23d53580",
   "metadata": {},
   "outputs": [
    {
     "data": {
      "image/png": "[encoded data removed]",
      "text/plain": [
       "<Figure size 432x288 with 1 Axes>"
      ]
     },
     "metadata": {
      "needs_background": "light"
     },
     "output_type": "display_data"
    }
   ],
   "source": [
    "# visualisasi dengan boxplot\n",
    "sns.boxplot(data = df[\"parking\"], palette = \"Accent\", orient = 'h')\n",
    "plt.show()"
   ]
  },
  {
   "cell_type": "markdown",
   "id": "fecf5ad0-715f-46af-ae1c-5c74b65e78ea",
   "metadata": {},
   "source": [
    "> Semua features sudah bersih dari outliers"
   ]
  },
  {
   "cell_type": "code",
   "execution_count": 38,
   "id": "1fa33ed3-7b54-45bb-b02c-8be4e8ffac98",
   "metadata": {},
   "outputs": [
    {
     "name": "stdout",
     "output_type": "stream",
     "text": [
      "<class 'pandas.core.frame.DataFrame'>\n",
      "RangeIndex: 545 entries, 0 to 544\n",
      "Data columns (total 13 columns):\n",
      " #   Column            Non-Null Count  Dtype \n",
      "---  ------            --------------  ----- \n",
      " 0   price             545 non-null    int64 \n",
      " 1   area              545 non-null    int64 \n",
      " 2   bedrooms          545 non-null    int64 \n",
      " 3   bathrooms         545 non-null    int64 \n",
      " 4   stories           545 non-null    int64 \n",
      " 5   mainroad          545 non-null    object\n",
      " 6   guestroom         545 non-null    object\n",
      " 7   basement          545 non-null    object\n",
      " 8   hotwaterheating   545 non-null    object\n",
      " 9   airconditioning   545 non-null    object\n",
      " 10  parking           545 non-null    int64 \n",
      " 11  prefarea          545 non-null    object\n",
      " 12  furnishingstatus  545 non-null    object\n",
      "dtypes: int64(6), object(7)\n",
      "memory usage: 55.5+ KB\n"
     ]
    }
   ],
   "source": [
    "df.info()"
   ]
  },
  {
   "cell_type": "markdown",
   "id": "17e57706-aea5-411a-b2c1-ffa61ccb6ce8",
   "metadata": {},
   "source": [
    "## FEATURE ENGINEERING"
   ]
  },
  {
   "cell_type": "code",
   "execution_count": 39,
   "id": "47d9f626-ac39-4048-b66f-538790d72758",
   "metadata": {},
   "outputs": [
    {
     "data": {
      "text/html": [
       "<div>\n",
       "<style scoped>\n",
       "    .dataframe tbody tr th:only-of-type {\n",
       "        vertical-align: middle;\n",
       "    }\n",
       "\n",
       "    .dataframe tbody tr th {\n",
       "        vertical-align: top;\n",
       "    }\n",
       "\n",
       "    .dataframe thead th {\n",
       "        text-align: right;\n",
       "    }\n",
       "</style>\n",
       "<table border=\"1\" class=\"dataframe\">\n",
       "  <thead>\n",
       "    <tr style=\"text-align: right;\">\n",
       "      <th></th>\n",
       "      <th>price</th>\n",
       "      <th>area</th>\n",
       "      <th>bedrooms</th>\n",
       "      <th>bathrooms</th>\n",
       "      <th>stories</th>\n",
       "      <th>mainroad</th>\n",
       "      <th>guestroom</th>\n",
       "      <th>basement</th>\n",
       "      <th>hotwaterheating</th>\n",
       "      <th>airconditioning</th>\n",
       "      <th>parking</th>\n",
       "      <th>prefarea</th>\n",
       "      <th>furnishingstatus</th>\n",
       "    </tr>\n",
       "  </thead>\n",
       "  <tbody>\n",
       "    <tr>\n",
       "      <th>0</th>\n",
       "      <td>9100000</td>\n",
       "      <td>7420</td>\n",
       "      <td>4</td>\n",
       "      <td>2</td>\n",
       "      <td>3</td>\n",
       "      <td>yes</td>\n",
       "      <td>no</td>\n",
       "      <td>no</td>\n",
       "      <td>no</td>\n",
       "      <td>yes</td>\n",
       "      <td>2</td>\n",
       "      <td>yes</td>\n",
       "      <td>furnished</td>\n",
       "    </tr>\n",
       "    <tr>\n",
       "      <th>1</th>\n",
       "      <td>9100000</td>\n",
       "      <td>8960</td>\n",
       "      <td>4</td>\n",
       "      <td>3</td>\n",
       "      <td>3</td>\n",
       "      <td>yes</td>\n",
       "      <td>no</td>\n",
       "      <td>no</td>\n",
       "      <td>no</td>\n",
       "      <td>yes</td>\n",
       "      <td>2</td>\n",
       "      <td>no</td>\n",
       "      <td>furnished</td>\n",
       "    </tr>\n",
       "    <tr>\n",
       "      <th>2</th>\n",
       "      <td>9100000</td>\n",
       "      <td>9960</td>\n",
       "      <td>3</td>\n",
       "      <td>2</td>\n",
       "      <td>2</td>\n",
       "      <td>yes</td>\n",
       "      <td>no</td>\n",
       "      <td>yes</td>\n",
       "      <td>no</td>\n",
       "      <td>no</td>\n",
       "      <td>2</td>\n",
       "      <td>yes</td>\n",
       "      <td>semi-furnished</td>\n",
       "    </tr>\n",
       "    <tr>\n",
       "      <th>3</th>\n",
       "      <td>9100000</td>\n",
       "      <td>7500</td>\n",
       "      <td>4</td>\n",
       "      <td>2</td>\n",
       "      <td>2</td>\n",
       "      <td>yes</td>\n",
       "      <td>no</td>\n",
       "      <td>yes</td>\n",
       "      <td>no</td>\n",
       "      <td>yes</td>\n",
       "      <td>2</td>\n",
       "      <td>yes</td>\n",
       "      <td>furnished</td>\n",
       "    </tr>\n",
       "    <tr>\n",
       "      <th>4</th>\n",
       "      <td>9100000</td>\n",
       "      <td>7420</td>\n",
       "      <td>4</td>\n",
       "      <td>1</td>\n",
       "      <td>2</td>\n",
       "      <td>yes</td>\n",
       "      <td>yes</td>\n",
       "      <td>yes</td>\n",
       "      <td>no</td>\n",
       "      <td>yes</td>\n",
       "      <td>2</td>\n",
       "      <td>no</td>\n",
       "      <td>furnished</td>\n",
       "    </tr>\n",
       "  </tbody>\n",
       "</table>\n",
       "</div>"
      ],
      "text/plain": [
       "     price  area  bedrooms  bathrooms  stories mainroad guestroom basement  \\\n",
       "0  9100000  7420         4          2        3      yes        no       no   \n",
       "1  9100000  8960         4          3        3      yes        no       no   \n",
       "2  9100000  9960         3          2        2      yes        no      yes   \n",
       "3  9100000  7500         4          2        2      yes        no      yes   \n",
       "4  9100000  7420         4          1        2      yes       yes      yes   \n",
       "\n",
       "  hotwaterheating airconditioning  parking prefarea furnishingstatus  \n",
       "0              no             yes        2      yes        furnished  \n",
       "1              no             yes        2       no        furnished  \n",
       "2              no              no        2      yes   semi-furnished  \n",
       "3              no             yes        2      yes        furnished  \n",
       "4              no             yes        2       no        furnished  "
      ]
     },
     "execution_count": 39,
     "metadata": {},
     "output_type": "execute_result"
    }
   ],
   "source": [
    "df.head()"
   ]
  },
  {
   "cell_type": "markdown",
   "id": "26f7335f-25b4-4b94-8154-a514869024ea",
   "metadata": {},
   "source": [
    "### FEATURE ENCODING"
   ]
  },
  {
   "cell_type": "markdown",
   "id": "5325841d-eacb-4b9b-8ca2-8f48fdbb18cb",
   "metadata": {
    "tags": []
   },
   "source": [
    "#### ONE-HOT ENCODING"
   ]
  },
  {
   "cell_type": "markdown",
   "id": "7f50dc5e-291a-4340-9e01-9d1e92e7ce65",
   "metadata": {},
   "source": [
    "> Menggunakan one-hot encoding pada features mainroad, guestroom, basement, hotwaterheating, airconditioning, dan prefarea"
   ]
  },
  {
   "cell_type": "code",
   "execution_count": 40,
   "id": "64547725-4898-4086-9f57-f15a420d0f20",
   "metadata": {},
   "outputs": [],
   "source": [
    "df_enc = df.select_dtypes(exclude = \"int64\").drop(columns = [\"furnishingstatus\"])"
   ]
  },
  {
   "cell_type": "code",
   "execution_count": 41,
   "id": "5f7fc684-a5ed-464b-abab-90e1c78f4461",
   "metadata": {},
   "outputs": [],
   "source": [
    "for i in df_enc :\n",
    "    df = pd.get_dummies(df, prefix = i, columns=[i], drop_first = True)"
   ]
  },
  {
   "cell_type": "code",
   "execution_count": 42,
   "id": "359b5aaf-522d-4627-96c8-2ee1709e6e71",
   "metadata": {},
   "outputs": [
    {
     "data": {
      "text/html": [
       "<div>\n",
       "<style scoped>\n",
       "    .dataframe tbody tr th:only-of-type {\n",
       "        vertical-align: middle;\n",
       "    }\n",
       "\n",
       "    .dataframe tbody tr th {\n",
       "        vertical-align: top;\n",
       "    }\n",
       "\n",
       "    .dataframe thead th {\n",
       "        text-align: right;\n",
       "    }\n",
       "</style>\n",
       "<table border=\"1\" class=\"dataframe\">\n",
       "  <thead>\n",
       "    <tr style=\"text-align: right;\">\n",
       "      <th></th>\n",
       "      <th>price</th>\n",
       "      <th>area</th>\n",
       "      <th>bedrooms</th>\n",
       "      <th>bathrooms</th>\n",
       "      <th>stories</th>\n",
       "      <th>parking</th>\n",
       "      <th>furnishingstatus</th>\n",
       "      <th>mainroad_yes</th>\n",
       "      <th>guestroom_yes</th>\n",
       "      <th>basement_yes</th>\n",
       "      <th>hotwaterheating_yes</th>\n",
       "      <th>airconditioning_yes</th>\n",
       "      <th>prefarea_yes</th>\n",
       "    </tr>\n",
       "  </thead>\n",
       "  <tbody>\n",
       "    <tr>\n",
       "      <th>0</th>\n",
       "      <td>9100000</td>\n",
       "      <td>7420</td>\n",
       "      <td>4</td>\n",
       "      <td>2</td>\n",
       "      <td>3</td>\n",
       "      <td>2</td>\n",
       "      <td>furnished</td>\n",
       "      <td>1</td>\n",
       "      <td>0</td>\n",
       "      <td>0</td>\n",
       "      <td>0</td>\n",
       "      <td>1</td>\n",
       "      <td>1</td>\n",
       "    </tr>\n",
       "    <tr>\n",
       "      <th>1</th>\n",
       "      <td>9100000</td>\n",
       "      <td>8960</td>\n",
       "      <td>4</td>\n",
       "      <td>3</td>\n",
       "      <td>3</td>\n",
       "      <td>2</td>\n",
       "      <td>furnished</td>\n",
       "      <td>1</td>\n",
       "      <td>0</td>\n",
       "      <td>0</td>\n",
       "      <td>0</td>\n",
       "      <td>1</td>\n",
       "      <td>0</td>\n",
       "    </tr>\n",
       "    <tr>\n",
       "      <th>2</th>\n",
       "      <td>9100000</td>\n",
       "      <td>9960</td>\n",
       "      <td>3</td>\n",
       "      <td>2</td>\n",
       "      <td>2</td>\n",
       "      <td>2</td>\n",
       "      <td>semi-furnished</td>\n",
       "      <td>1</td>\n",
       "      <td>0</td>\n",
       "      <td>1</td>\n",
       "      <td>0</td>\n",
       "      <td>0</td>\n",
       "      <td>1</td>\n",
       "    </tr>\n",
       "    <tr>\n",
       "      <th>3</th>\n",
       "      <td>9100000</td>\n",
       "      <td>7500</td>\n",
       "      <td>4</td>\n",
       "      <td>2</td>\n",
       "      <td>2</td>\n",
       "      <td>2</td>\n",
       "      <td>furnished</td>\n",
       "      <td>1</td>\n",
       "      <td>0</td>\n",
       "      <td>1</td>\n",
       "      <td>0</td>\n",
       "      <td>1</td>\n",
       "      <td>1</td>\n",
       "    </tr>\n",
       "    <tr>\n",
       "      <th>4</th>\n",
       "      <td>9100000</td>\n",
       "      <td>7420</td>\n",
       "      <td>4</td>\n",
       "      <td>1</td>\n",
       "      <td>2</td>\n",
       "      <td>2</td>\n",
       "      <td>furnished</td>\n",
       "      <td>1</td>\n",
       "      <td>1</td>\n",
       "      <td>1</td>\n",
       "      <td>0</td>\n",
       "      <td>1</td>\n",
       "      <td>0</td>\n",
       "    </tr>\n",
       "  </tbody>\n",
       "</table>\n",
       "</div>"
      ],
      "text/plain": [
       "     price  area  bedrooms  bathrooms  stories  parking furnishingstatus  \\\n",
       "0  9100000  7420         4          2        3        2        furnished   \n",
       "1  9100000  8960         4          3        3        2        furnished   \n",
       "2  9100000  9960         3          2        2        2   semi-furnished   \n",
       "3  9100000  7500         4          2        2        2        furnished   \n",
       "4  9100000  7420         4          1        2        2        furnished   \n",
       "\n",
       "   mainroad_yes  guestroom_yes  basement_yes  hotwaterheating_yes  \\\n",
       "0             1              0             0                    0   \n",
       "1             1              0             0                    0   \n",
       "2             1              0             1                    0   \n",
       "3             1              0             1                    0   \n",
       "4             1              1             1                    0   \n",
       "\n",
       "   airconditioning_yes  prefarea_yes  \n",
       "0                    1             1  \n",
       "1                    1             0  \n",
       "2                    0             1  \n",
       "3                    1             1  \n",
       "4                    1             0  "
      ]
     },
     "execution_count": 42,
     "metadata": {},
     "output_type": "execute_result"
    }
   ],
   "source": [
    "df.head()"
   ]
  },
  {
   "cell_type": "markdown",
   "id": "2f015ab6-7146-437a-8e7a-ac0fa9ce948f",
   "metadata": {},
   "source": [
    "#### ORDINAL ENCODING"
   ]
  },
  {
   "cell_type": "markdown",
   "id": "e36287f6-11d0-4525-938f-fb021f46d177",
   "metadata": {},
   "source": [
    "> Menggunakan ordinal encoding pada features furnishingstatus"
   ]
  },
  {
   "cell_type": "code",
   "execution_count": 43,
   "id": "7491f3c0-2f57-4c59-8543-410975782018",
   "metadata": {},
   "outputs": [],
   "source": [
    "# gunakan fit_transform untuk encode data\n",
    "df[\"furnishingstatus_enc\"] = OrdinalEncoder().fit_transform(df[[\"furnishingstatus\"]])"
   ]
  },
  {
   "cell_type": "code",
   "execution_count": 44,
   "id": "a227f710-33c1-4af9-b008-e07deeda894c",
   "metadata": {},
   "outputs": [
    {
     "data": {
      "text/plain": [
       "furnishingstatus  furnishingstatus_enc\n",
       "furnished         0.0                     140\n",
       "semi-furnished    1.0                     227\n",
       "unfurnished       2.0                     178\n",
       "Name: parking, dtype: int64"
      ]
     },
     "execution_count": 44,
     "metadata": {},
     "output_type": "execute_result"
    }
   ],
   "source": [
    "# cek hasil\n",
    "df.groupby([\"furnishingstatus\", \"furnishingstatus_enc\"])[\"parking\"].count()"
   ]
  },
  {
   "cell_type": "markdown",
   "id": "7a7dd62f-228a-4ab1-8eb0-a19e137f98dc",
   "metadata": {},
   "source": [
    "> By default library ini akan mengurutkan berdasarkan abjad. Maka dari itu kita melakukan pengurutan manual terlebihdahulu"
   ]
  },
  {
   "cell_type": "code",
   "execution_count": 45,
   "id": "bca5a831-b279-4783-894f-536c5dc1cf31",
   "metadata": {},
   "outputs": [],
   "source": [
    "# menentukan urutannya (target guided)\n",
    "# class_order = [\"unfurnished\", \"semi-furnished\", \"furnished\"]\n",
    "# gunakan estimasi pada fit_transform untuk encode data dengan urutan\n",
    "df[\"furnishingstatus_enc\"] = OrdinalEncoder(categories = [[\"unfurnished\", \"semi-furnished\", \"furnished\"]]).fit_transform(df[[\"furnishingstatus\"]])"
   ]
  },
  {
   "cell_type": "code",
   "execution_count": 46,
   "id": "cd88059b-a75c-4a7c-9a07-9ef7ac7028a6",
   "metadata": {},
   "outputs": [
    {
     "data": {
      "text/html": [
       "<div>\n",
       "<style scoped>\n",
       "    .dataframe tbody tr th:only-of-type {\n",
       "        vertical-align: middle;\n",
       "    }\n",
       "\n",
       "    .dataframe tbody tr th {\n",
       "        vertical-align: top;\n",
       "    }\n",
       "\n",
       "    .dataframe thead th {\n",
       "        text-align: right;\n",
       "    }\n",
       "</style>\n",
       "<table border=\"1\" class=\"dataframe\">\n",
       "  <thead>\n",
       "    <tr style=\"text-align: right;\">\n",
       "      <th></th>\n",
       "      <th>price</th>\n",
       "      <th>area</th>\n",
       "      <th>bedrooms</th>\n",
       "      <th>bathrooms</th>\n",
       "      <th>stories</th>\n",
       "      <th>parking</th>\n",
       "      <th>furnishingstatus</th>\n",
       "      <th>mainroad_yes</th>\n",
       "      <th>guestroom_yes</th>\n",
       "      <th>basement_yes</th>\n",
       "      <th>hotwaterheating_yes</th>\n",
       "      <th>airconditioning_yes</th>\n",
       "      <th>prefarea_yes</th>\n",
       "      <th>furnishingstatus_enc</th>\n",
       "    </tr>\n",
       "  </thead>\n",
       "  <tbody>\n",
       "    <tr>\n",
       "      <th>0</th>\n",
       "      <td>9100000</td>\n",
       "      <td>7420</td>\n",
       "      <td>4</td>\n",
       "      <td>2</td>\n",
       "      <td>3</td>\n",
       "      <td>2</td>\n",
       "      <td>furnished</td>\n",
       "      <td>1</td>\n",
       "      <td>0</td>\n",
       "      <td>0</td>\n",
       "      <td>0</td>\n",
       "      <td>1</td>\n",
       "      <td>1</td>\n",
       "      <td>2.0</td>\n",
       "    </tr>\n",
       "    <tr>\n",
       "      <th>1</th>\n",
       "      <td>9100000</td>\n",
       "      <td>8960</td>\n",
       "      <td>4</td>\n",
       "      <td>3</td>\n",
       "      <td>3</td>\n",
       "      <td>2</td>\n",
       "      <td>furnished</td>\n",
       "      <td>1</td>\n",
       "      <td>0</td>\n",
       "      <td>0</td>\n",
       "      <td>0</td>\n",
       "      <td>1</td>\n",
       "      <td>0</td>\n",
       "      <td>2.0</td>\n",
       "    </tr>\n",
       "    <tr>\n",
       "      <th>2</th>\n",
       "      <td>9100000</td>\n",
       "      <td>9960</td>\n",
       "      <td>3</td>\n",
       "      <td>2</td>\n",
       "      <td>2</td>\n",
       "      <td>2</td>\n",
       "      <td>semi-furnished</td>\n",
       "      <td>1</td>\n",
       "      <td>0</td>\n",
       "      <td>1</td>\n",
       "      <td>0</td>\n",
       "      <td>0</td>\n",
       "      <td>1</td>\n",
       "      <td>1.0</td>\n",
       "    </tr>\n",
       "    <tr>\n",
       "      <th>3</th>\n",
       "      <td>9100000</td>\n",
       "      <td>7500</td>\n",
       "      <td>4</td>\n",
       "      <td>2</td>\n",
       "      <td>2</td>\n",
       "      <td>2</td>\n",
       "      <td>furnished</td>\n",
       "      <td>1</td>\n",
       "      <td>0</td>\n",
       "      <td>1</td>\n",
       "      <td>0</td>\n",
       "      <td>1</td>\n",
       "      <td>1</td>\n",
       "      <td>2.0</td>\n",
       "    </tr>\n",
       "    <tr>\n",
       "      <th>4</th>\n",
       "      <td>9100000</td>\n",
       "      <td>7420</td>\n",
       "      <td>4</td>\n",
       "      <td>1</td>\n",
       "      <td>2</td>\n",
       "      <td>2</td>\n",
       "      <td>furnished</td>\n",
       "      <td>1</td>\n",
       "      <td>1</td>\n",
       "      <td>1</td>\n",
       "      <td>0</td>\n",
       "      <td>1</td>\n",
       "      <td>0</td>\n",
       "      <td>2.0</td>\n",
       "    </tr>\n",
       "  </tbody>\n",
       "</table>\n",
       "</div>"
      ],
      "text/plain": [
       "     price  area  bedrooms  bathrooms  stories  parking furnishingstatus  \\\n",
       "0  9100000  7420         4          2        3        2        furnished   \n",
       "1  9100000  8960         4          3        3        2        furnished   \n",
       "2  9100000  9960         3          2        2        2   semi-furnished   \n",
       "3  9100000  7500         4          2        2        2        furnished   \n",
       "4  9100000  7420         4          1        2        2        furnished   \n",
       "\n",
       "   mainroad_yes  guestroom_yes  basement_yes  hotwaterheating_yes  \\\n",
       "0             1              0             0                    0   \n",
       "1             1              0             0                    0   \n",
       "2             1              0             1                    0   \n",
       "3             1              0             1                    0   \n",
       "4             1              1             1                    0   \n",
       "\n",
       "   airconditioning_yes  prefarea_yes  furnishingstatus_enc  \n",
       "0                    1             1                   2.0  \n",
       "1                    1             0                   2.0  \n",
       "2                    0             1                   1.0  \n",
       "3                    1             1                   2.0  \n",
       "4                    1             0                   2.0  "
      ]
     },
     "execution_count": 46,
     "metadata": {},
     "output_type": "execute_result"
    }
   ],
   "source": [
    "df.head()"
   ]
  },
  {
   "cell_type": "markdown",
   "id": "96042579-ade8-4108-be71-e84a60ca659b",
   "metadata": {},
   "source": [
    "> Drop features asal-nya."
   ]
  },
  {
   "cell_type": "code",
   "execution_count": 47,
   "id": "bb06804d-7e4f-47fb-89e6-f76df4818ef2",
   "metadata": {},
   "outputs": [],
   "source": [
    "df = df.drop(columns = [\"furnishingstatus\"])"
   ]
  },
  {
   "cell_type": "code",
   "execution_count": 48,
   "id": "b8569159-8359-4d85-a84b-b06416249298",
   "metadata": {},
   "outputs": [
    {
     "data": {
      "text/html": [
       "<div>\n",
       "<style scoped>\n",
       "    .dataframe tbody tr th:only-of-type {\n",
       "        vertical-align: middle;\n",
       "    }\n",
       "\n",
       "    .dataframe tbody tr th {\n",
       "        vertical-align: top;\n",
       "    }\n",
       "\n",
       "    .dataframe thead th {\n",
       "        text-align: right;\n",
       "    }\n",
       "</style>\n",
       "<table border=\"1\" class=\"dataframe\">\n",
       "  <thead>\n",
       "    <tr style=\"text-align: right;\">\n",
       "      <th></th>\n",
       "      <th>price</th>\n",
       "      <th>area</th>\n",
       "      <th>bedrooms</th>\n",
       "      <th>bathrooms</th>\n",
       "      <th>stories</th>\n",
       "      <th>parking</th>\n",
       "      <th>mainroad_yes</th>\n",
       "      <th>guestroom_yes</th>\n",
       "      <th>basement_yes</th>\n",
       "      <th>hotwaterheating_yes</th>\n",
       "      <th>airconditioning_yes</th>\n",
       "      <th>prefarea_yes</th>\n",
       "      <th>furnishingstatus_enc</th>\n",
       "    </tr>\n",
       "  </thead>\n",
       "  <tbody>\n",
       "    <tr>\n",
       "      <th>0</th>\n",
       "      <td>9100000</td>\n",
       "      <td>7420</td>\n",
       "      <td>4</td>\n",
       "      <td>2</td>\n",
       "      <td>3</td>\n",
       "      <td>2</td>\n",
       "      <td>1</td>\n",
       "      <td>0</td>\n",
       "      <td>0</td>\n",
       "      <td>0</td>\n",
       "      <td>1</td>\n",
       "      <td>1</td>\n",
       "      <td>2.0</td>\n",
       "    </tr>\n",
       "    <tr>\n",
       "      <th>1</th>\n",
       "      <td>9100000</td>\n",
       "      <td>8960</td>\n",
       "      <td>4</td>\n",
       "      <td>3</td>\n",
       "      <td>3</td>\n",
       "      <td>2</td>\n",
       "      <td>1</td>\n",
       "      <td>0</td>\n",
       "      <td>0</td>\n",
       "      <td>0</td>\n",
       "      <td>1</td>\n",
       "      <td>0</td>\n",
       "      <td>2.0</td>\n",
       "    </tr>\n",
       "    <tr>\n",
       "      <th>2</th>\n",
       "      <td>9100000</td>\n",
       "      <td>9960</td>\n",
       "      <td>3</td>\n",
       "      <td>2</td>\n",
       "      <td>2</td>\n",
       "      <td>2</td>\n",
       "      <td>1</td>\n",
       "      <td>0</td>\n",
       "      <td>1</td>\n",
       "      <td>0</td>\n",
       "      <td>0</td>\n",
       "      <td>1</td>\n",
       "      <td>1.0</td>\n",
       "    </tr>\n",
       "    <tr>\n",
       "      <th>3</th>\n",
       "      <td>9100000</td>\n",
       "      <td>7500</td>\n",
       "      <td>4</td>\n",
       "      <td>2</td>\n",
       "      <td>2</td>\n",
       "      <td>2</td>\n",
       "      <td>1</td>\n",
       "      <td>0</td>\n",
       "      <td>1</td>\n",
       "      <td>0</td>\n",
       "      <td>1</td>\n",
       "      <td>1</td>\n",
       "      <td>2.0</td>\n",
       "    </tr>\n",
       "    <tr>\n",
       "      <th>4</th>\n",
       "      <td>9100000</td>\n",
       "      <td>7420</td>\n",
       "      <td>4</td>\n",
       "      <td>1</td>\n",
       "      <td>2</td>\n",
       "      <td>2</td>\n",
       "      <td>1</td>\n",
       "      <td>1</td>\n",
       "      <td>1</td>\n",
       "      <td>0</td>\n",
       "      <td>1</td>\n",
       "      <td>0</td>\n",
       "      <td>2.0</td>\n",
       "    </tr>\n",
       "  </tbody>\n",
       "</table>\n",
       "</div>"
      ],
      "text/plain": [
       "     price  area  bedrooms  bathrooms  stories  parking  mainroad_yes  \\\n",
       "0  9100000  7420         4          2        3        2             1   \n",
       "1  9100000  8960         4          3        3        2             1   \n",
       "2  9100000  9960         3          2        2        2             1   \n",
       "3  9100000  7500         4          2        2        2             1   \n",
       "4  9100000  7420         4          1        2        2             1   \n",
       "\n",
       "   guestroom_yes  basement_yes  hotwaterheating_yes  airconditioning_yes  \\\n",
       "0              0             0                    0                    1   \n",
       "1              0             0                    0                    1   \n",
       "2              0             1                    0                    0   \n",
       "3              0             1                    0                    1   \n",
       "4              1             1                    0                    1   \n",
       "\n",
       "   prefarea_yes  furnishingstatus_enc  \n",
       "0             1                   2.0  \n",
       "1             0                   2.0  \n",
       "2             1                   1.0  \n",
       "3             1                   2.0  \n",
       "4             0                   2.0  "
      ]
     },
     "execution_count": 48,
     "metadata": {},
     "output_type": "execute_result"
    }
   ],
   "source": [
    "df.head()"
   ]
  },
  {
   "cell_type": "markdown",
   "id": "85e8f099-89bb-4b72-8a95-4104d4696f46",
   "metadata": {},
   "source": [
    "### FEATURE SCALING"
   ]
  },
  {
   "cell_type": "code",
   "execution_count": 49,
   "id": "d6e152cc-9e70-4251-835d-1fce8bd514f0",
   "metadata": {},
   "outputs": [
    {
     "name": "stdout",
     "output_type": "stream",
     "text": [
      "<class 'pandas.core.frame.DataFrame'>\n",
      "RangeIndex: 545 entries, 0 to 544\n",
      "Data columns (total 13 columns):\n",
      " #   Column                Non-Null Count  Dtype  \n",
      "---  ------                --------------  -----  \n",
      " 0   price                 545 non-null    int64  \n",
      " 1   area                  545 non-null    int64  \n",
      " 2   bedrooms              545 non-null    int64  \n",
      " 3   bathrooms             545 non-null    int64  \n",
      " 4   stories               545 non-null    int64  \n",
      " 5   parking               545 non-null    int64  \n",
      " 6   mainroad_yes          545 non-null    uint8  \n",
      " 7   guestroom_yes         545 non-null    uint8  \n",
      " 8   basement_yes          545 non-null    uint8  \n",
      " 9   hotwaterheating_yes   545 non-null    uint8  \n",
      " 10  airconditioning_yes   545 non-null    uint8  \n",
      " 11  prefarea_yes          545 non-null    uint8  \n",
      " 12  furnishingstatus_enc  545 non-null    float64\n",
      "dtypes: float64(1), int64(6), uint8(6)\n",
      "memory usage: 33.1 KB\n"
     ]
    }
   ],
   "source": [
    "df.info()"
   ]
  },
  {
   "cell_type": "markdown",
   "id": "7a4df6e6-7fe7-4c97-b9b1-330818d188c1",
   "metadata": {},
   "source": [
    "> Kita akan melakukan feature scaling pada numerical features."
   ]
  },
  {
   "cell_type": "markdown",
   "id": "7772a16e-256f-451c-9fa4-46e26922fc50",
   "metadata": {},
   "source": [
    "> Disini kita akan scaling price, area, bedrooms, bathrooms, stories, dan parking menggunakan MinMaxScaler"
   ]
  },
  {
   "cell_type": "code",
   "execution_count": 50,
   "id": "e3ab533b-40a2-4035-9d70-a1b862eaf7bb",
   "metadata": {},
   "outputs": [],
   "source": [
    "# min max scaler\n",
    "scaler = MinMaxScaler()"
   ]
  },
  {
   "cell_type": "code",
   "execution_count": 51,
   "id": "5b497663-268a-46d5-9e9a-f0932227328b",
   "metadata": {},
   "outputs": [],
   "source": [
    "column_name = [\"price\", \"area\", \"bedrooms\", \"bathrooms\", \"stories\", \"parking\"]"
   ]
  },
  {
   "cell_type": "code",
   "execution_count": 52,
   "id": "71329df6-306a-42df-ba23-25668312071b",
   "metadata": {},
   "outputs": [],
   "source": [
    "for i in column_name:\n",
    "    df[i +'_minmax'] = scaler.fit_transform(df[[i]])"
   ]
  },
  {
   "cell_type": "code",
   "execution_count": 53,
   "id": "3ace5098-6a0b-4274-a2f2-5ce2da89c726",
   "metadata": {},
   "outputs": [
    {
     "data": {
      "text/html": [
       "<div>\n",
       "<style scoped>\n",
       "    .dataframe tbody tr th:only-of-type {\n",
       "        vertical-align: middle;\n",
       "    }\n",
       "\n",
       "    .dataframe tbody tr th {\n",
       "        vertical-align: top;\n",
       "    }\n",
       "\n",
       "    .dataframe thead th {\n",
       "        text-align: right;\n",
       "    }\n",
       "</style>\n",
       "<table border=\"1\" class=\"dataframe\">\n",
       "  <thead>\n",
       "    <tr style=\"text-align: right;\">\n",
       "      <th></th>\n",
       "      <th>price</th>\n",
       "      <th>area</th>\n",
       "      <th>bedrooms</th>\n",
       "      <th>bathrooms</th>\n",
       "      <th>stories</th>\n",
       "      <th>parking</th>\n",
       "      <th>mainroad_yes</th>\n",
       "      <th>guestroom_yes</th>\n",
       "      <th>basement_yes</th>\n",
       "      <th>hotwaterheating_yes</th>\n",
       "      <th>airconditioning_yes</th>\n",
       "      <th>prefarea_yes</th>\n",
       "      <th>furnishingstatus_enc</th>\n",
       "      <th>price_minmax</th>\n",
       "      <th>area_minmax</th>\n",
       "      <th>bedrooms_minmax</th>\n",
       "      <th>bathrooms_minmax</th>\n",
       "      <th>stories_minmax</th>\n",
       "      <th>parking_minmax</th>\n",
       "    </tr>\n",
       "  </thead>\n",
       "  <tbody>\n",
       "    <tr>\n",
       "      <th>0</th>\n",
       "      <td>9100000</td>\n",
       "      <td>7420</td>\n",
       "      <td>4</td>\n",
       "      <td>2</td>\n",
       "      <td>3</td>\n",
       "      <td>2</td>\n",
       "      <td>1</td>\n",
       "      <td>0</td>\n",
       "      <td>0</td>\n",
       "      <td>0</td>\n",
       "      <td>1</td>\n",
       "      <td>1</td>\n",
       "      <td>2.0</td>\n",
       "      <td>1.0</td>\n",
       "      <td>0.669451</td>\n",
       "      <td>1.000000</td>\n",
       "      <td>0.5</td>\n",
       "      <td>1.0</td>\n",
       "      <td>1.0</td>\n",
       "    </tr>\n",
       "    <tr>\n",
       "      <th>1</th>\n",
       "      <td>9100000</td>\n",
       "      <td>8960</td>\n",
       "      <td>4</td>\n",
       "      <td>3</td>\n",
       "      <td>3</td>\n",
       "      <td>2</td>\n",
       "      <td>1</td>\n",
       "      <td>0</td>\n",
       "      <td>0</td>\n",
       "      <td>0</td>\n",
       "      <td>1</td>\n",
       "      <td>0</td>\n",
       "      <td>2.0</td>\n",
       "      <td>1.0</td>\n",
       "      <td>0.848126</td>\n",
       "      <td>1.000000</td>\n",
       "      <td>1.0</td>\n",
       "      <td>1.0</td>\n",
       "      <td>1.0</td>\n",
       "    </tr>\n",
       "    <tr>\n",
       "      <th>2</th>\n",
       "      <td>9100000</td>\n",
       "      <td>9960</td>\n",
       "      <td>3</td>\n",
       "      <td>2</td>\n",
       "      <td>2</td>\n",
       "      <td>2</td>\n",
       "      <td>1</td>\n",
       "      <td>0</td>\n",
       "      <td>1</td>\n",
       "      <td>0</td>\n",
       "      <td>0</td>\n",
       "      <td>1</td>\n",
       "      <td>1.0</td>\n",
       "      <td>1.0</td>\n",
       "      <td>0.964149</td>\n",
       "      <td>0.666667</td>\n",
       "      <td>0.5</td>\n",
       "      <td>0.5</td>\n",
       "      <td>1.0</td>\n",
       "    </tr>\n",
       "    <tr>\n",
       "      <th>3</th>\n",
       "      <td>9100000</td>\n",
       "      <td>7500</td>\n",
       "      <td>4</td>\n",
       "      <td>2</td>\n",
       "      <td>2</td>\n",
       "      <td>2</td>\n",
       "      <td>1</td>\n",
       "      <td>0</td>\n",
       "      <td>1</td>\n",
       "      <td>0</td>\n",
       "      <td>1</td>\n",
       "      <td>1</td>\n",
       "      <td>2.0</td>\n",
       "      <td>1.0</td>\n",
       "      <td>0.678733</td>\n",
       "      <td>1.000000</td>\n",
       "      <td>0.5</td>\n",
       "      <td>0.5</td>\n",
       "      <td>1.0</td>\n",
       "    </tr>\n",
       "    <tr>\n",
       "      <th>4</th>\n",
       "      <td>9100000</td>\n",
       "      <td>7420</td>\n",
       "      <td>4</td>\n",
       "      <td>1</td>\n",
       "      <td>2</td>\n",
       "      <td>2</td>\n",
       "      <td>1</td>\n",
       "      <td>1</td>\n",
       "      <td>1</td>\n",
       "      <td>0</td>\n",
       "      <td>1</td>\n",
       "      <td>0</td>\n",
       "      <td>2.0</td>\n",
       "      <td>1.0</td>\n",
       "      <td>0.669451</td>\n",
       "      <td>1.000000</td>\n",
       "      <td>0.0</td>\n",
       "      <td>0.5</td>\n",
       "      <td>1.0</td>\n",
       "    </tr>\n",
       "  </tbody>\n",
       "</table>\n",
       "</div>"
      ],
      "text/plain": [
       "     price  area  bedrooms  bathrooms  stories  parking  mainroad_yes  \\\n",
       "0  9100000  7420         4          2        3        2             1   \n",
       "1  9100000  8960         4          3        3        2             1   \n",
       "2  9100000  9960         3          2        2        2             1   \n",
       "3  9100000  7500         4          2        2        2             1   \n",
       "4  9100000  7420         4          1        2        2             1   \n",
       "\n",
       "   guestroom_yes  basement_yes  hotwaterheating_yes  airconditioning_yes  \\\n",
       "0              0             0                    0                    1   \n",
       "1              0             0                    0                    1   \n",
       "2              0             1                    0                    0   \n",
       "3              0             1                    0                    1   \n",
       "4              1             1                    0                    1   \n",
       "\n",
       "   prefarea_yes  furnishingstatus_enc  price_minmax  area_minmax  \\\n",
       "0             1                   2.0           1.0     0.669451   \n",
       "1             0                   2.0           1.0     0.848126   \n",
       "2             1                   1.0           1.0     0.964149   \n",
       "3             1                   2.0           1.0     0.678733   \n",
       "4             0                   2.0           1.0     0.669451   \n",
       "\n",
       "   bedrooms_minmax  bathrooms_minmax  stories_minmax  parking_minmax  \n",
       "0         1.000000               0.5             1.0             1.0  \n",
       "1         1.000000               1.0             1.0             1.0  \n",
       "2         0.666667               0.5             0.5             1.0  \n",
       "3         1.000000               0.5             0.5             1.0  \n",
       "4         1.000000               0.0             0.5             1.0  "
      ]
     },
     "execution_count": 53,
     "metadata": {},
     "output_type": "execute_result"
    }
   ],
   "source": [
    "df.head()"
   ]
  },
  {
   "cell_type": "markdown",
   "id": "f5e6f401-1cc1-47cd-a4ae-fabb5cbd8845",
   "metadata": {},
   "source": [
    "> Drop features asal-nya."
   ]
  },
  {
   "cell_type": "code",
   "execution_count": 54,
   "id": "ff12ecb0-445f-4899-b3dc-c0b860b920c0",
   "metadata": {},
   "outputs": [],
   "source": [
    "df = df.drop(columns = column_name)"
   ]
  },
  {
   "cell_type": "code",
   "execution_count": 55,
   "id": "762e885a-ae70-4ecd-bf72-ab9d90d5ef91",
   "metadata": {},
   "outputs": [
    {
     "data": {
      "text/html": [
       "<div>\n",
       "<style scoped>\n",
       "    .dataframe tbody tr th:only-of-type {\n",
       "        vertical-align: middle;\n",
       "    }\n",
       "\n",
       "    .dataframe tbody tr th {\n",
       "        vertical-align: top;\n",
       "    }\n",
       "\n",
       "    .dataframe thead th {\n",
       "        text-align: right;\n",
       "    }\n",
       "</style>\n",
       "<table border=\"1\" class=\"dataframe\">\n",
       "  <thead>\n",
       "    <tr style=\"text-align: right;\">\n",
       "      <th></th>\n",
       "      <th>mainroad_yes</th>\n",
       "      <th>guestroom_yes</th>\n",
       "      <th>basement_yes</th>\n",
       "      <th>hotwaterheating_yes</th>\n",
       "      <th>airconditioning_yes</th>\n",
       "      <th>prefarea_yes</th>\n",
       "      <th>furnishingstatus_enc</th>\n",
       "      <th>price_minmax</th>\n",
       "      <th>area_minmax</th>\n",
       "      <th>bedrooms_minmax</th>\n",
       "      <th>bathrooms_minmax</th>\n",
       "      <th>stories_minmax</th>\n",
       "      <th>parking_minmax</th>\n",
       "    </tr>\n",
       "  </thead>\n",
       "  <tbody>\n",
       "    <tr>\n",
       "      <th>0</th>\n",
       "      <td>1</td>\n",
       "      <td>0</td>\n",
       "      <td>0</td>\n",
       "      <td>0</td>\n",
       "      <td>1</td>\n",
       "      <td>1</td>\n",
       "      <td>2.0</td>\n",
       "      <td>1.0</td>\n",
       "      <td>0.669451</td>\n",
       "      <td>1.000000</td>\n",
       "      <td>0.5</td>\n",
       "      <td>1.0</td>\n",
       "      <td>1.0</td>\n",
       "    </tr>\n",
       "    <tr>\n",
       "      <th>1</th>\n",
       "      <td>1</td>\n",
       "      <td>0</td>\n",
       "      <td>0</td>\n",
       "      <td>0</td>\n",
       "      <td>1</td>\n",
       "      <td>0</td>\n",
       "      <td>2.0</td>\n",
       "      <td>1.0</td>\n",
       "      <td>0.848126</td>\n",
       "      <td>1.000000</td>\n",
       "      <td>1.0</td>\n",
       "      <td>1.0</td>\n",
       "      <td>1.0</td>\n",
       "    </tr>\n",
       "    <tr>\n",
       "      <th>2</th>\n",
       "      <td>1</td>\n",
       "      <td>0</td>\n",
       "      <td>1</td>\n",
       "      <td>0</td>\n",
       "      <td>0</td>\n",
       "      <td>1</td>\n",
       "      <td>1.0</td>\n",
       "      <td>1.0</td>\n",
       "      <td>0.964149</td>\n",
       "      <td>0.666667</td>\n",
       "      <td>0.5</td>\n",
       "      <td>0.5</td>\n",
       "      <td>1.0</td>\n",
       "    </tr>\n",
       "    <tr>\n",
       "      <th>3</th>\n",
       "      <td>1</td>\n",
       "      <td>0</td>\n",
       "      <td>1</td>\n",
       "      <td>0</td>\n",
       "      <td>1</td>\n",
       "      <td>1</td>\n",
       "      <td>2.0</td>\n",
       "      <td>1.0</td>\n",
       "      <td>0.678733</td>\n",
       "      <td>1.000000</td>\n",
       "      <td>0.5</td>\n",
       "      <td>0.5</td>\n",
       "      <td>1.0</td>\n",
       "    </tr>\n",
       "    <tr>\n",
       "      <th>4</th>\n",
       "      <td>1</td>\n",
       "      <td>1</td>\n",
       "      <td>1</td>\n",
       "      <td>0</td>\n",
       "      <td>1</td>\n",
       "      <td>0</td>\n",
       "      <td>2.0</td>\n",
       "      <td>1.0</td>\n",
       "      <td>0.669451</td>\n",
       "      <td>1.000000</td>\n",
       "      <td>0.0</td>\n",
       "      <td>0.5</td>\n",
       "      <td>1.0</td>\n",
       "    </tr>\n",
       "  </tbody>\n",
       "</table>\n",
       "</div>"
      ],
      "text/plain": [
       "   mainroad_yes  guestroom_yes  basement_yes  hotwaterheating_yes  \\\n",
       "0             1              0             0                    0   \n",
       "1             1              0             0                    0   \n",
       "2             1              0             1                    0   \n",
       "3             1              0             1                    0   \n",
       "4             1              1             1                    0   \n",
       "\n",
       "   airconditioning_yes  prefarea_yes  furnishingstatus_enc  price_minmax  \\\n",
       "0                    1             1                   2.0           1.0   \n",
       "1                    1             0                   2.0           1.0   \n",
       "2                    0             1                   1.0           1.0   \n",
       "3                    1             1                   2.0           1.0   \n",
       "4                    1             0                   2.0           1.0   \n",
       "\n",
       "   area_minmax  bedrooms_minmax  bathrooms_minmax  stories_minmax  \\\n",
       "0     0.669451         1.000000               0.5             1.0   \n",
       "1     0.848126         1.000000               1.0             1.0   \n",
       "2     0.964149         0.666667               0.5             0.5   \n",
       "3     0.678733         1.000000               0.5             0.5   \n",
       "4     0.669451         1.000000               0.0             0.5   \n",
       "\n",
       "   parking_minmax  \n",
       "0             1.0  \n",
       "1             1.0  \n",
       "2             1.0  \n",
       "3             1.0  \n",
       "4             1.0  "
      ]
     },
     "execution_count": 55,
     "metadata": {},
     "output_type": "execute_result"
    }
   ],
   "source": [
    "df.head()"
   ]
  },
  {
   "cell_type": "markdown",
   "id": "e5ded475-66eb-4027-9424-053a3afcb535",
   "metadata": {},
   "source": [
    "### FEATURE SELECTION"
   ]
  },
  {
   "cell_type": "markdown",
   "id": "d2185a6c-ca95-41f8-8e77-b36a08fee0a9",
   "metadata": {
    "tags": []
   },
   "source": [
    "#### EMBEDDED METHOD (FEATURE IMPORTANCES)"
   ]
  },
  {
   "cell_type": "code",
   "execution_count": 56,
   "id": "58a72d8e-ea23-484a-8aaa-73215d44366b",
   "metadata": {},
   "outputs": [],
   "source": [
    "# split dependent dan independent (target)\n",
    "X = df.drop(columns=[\"price_minmax\"])# independent feature, non target\n",
    "y = df[\"price_minmax\"] # target"
   ]
  },
  {
   "cell_type": "code",
   "execution_count": 57,
   "id": "bba3b8a6-bb7e-4e81-a75f-d4954ffc2388",
   "metadata": {},
   "outputs": [
    {
     "name": "stdout",
     "output_type": "stream",
     "text": [
      "[0.03206452 0.03286896 0.03851319 0.0221033  0.1461345  0.04817986\n",
      " 0.06600888 0.24384041 0.05197868 0.20360091 0.05286697 0.0618398 ]\n"
     ]
    }
   ],
   "source": [
    "# embedded method dengan ExtraTree\n",
    "model = ExtraTreesRegressor()\n",
    "model.fit(X,y) # fit model\n",
    "print(model.feature_importances_) # gunakan inbuilt class: feature_importances"
   ]
  },
  {
   "cell_type": "code",
   "execution_count": 58,
   "id": "39ef9f6b-b2e9-49ad-936b-46b7f0bb8884",
   "metadata": {},
   "outputs": [
    {
     "data": {
      "text/plain": [
       "area_minmax             0.243840\n",
       "bathrooms_minmax        0.203601\n",
       "airconditioning_yes     0.146135\n",
       "furnishingstatus_enc    0.066009\n",
       "parking_minmax          0.061840\n",
       "stories_minmax          0.052867\n",
       "bedrooms_minmax         0.051979\n",
       "prefarea_yes            0.048180\n",
       "basement_yes            0.038513\n",
       "guestroom_yes           0.032869\n",
       "dtype: float64"
      ]
     },
     "execution_count": 58,
     "metadata": {},
     "output_type": "execute_result"
    }
   ],
   "source": [
    "# hasil feature importances\n",
    "feat_importances = pd.Series(model.feature_importances_, index = X.columns)\n",
    "feat_importances.nlargest(10)"
   ]
  },
  {
   "cell_type": "code",
   "execution_count": 59,
   "id": "ab98400d-a849-4869-9dfc-5e5b394ac983",
   "metadata": {},
   "outputs": [
    {
     "data": {
      "image/png": "[encoded data removed]",
      "text/plain": [
       "<Figure size 720x504 with 1 Axes>"
      ]
     },
     "metadata": {
      "needs_background": "light"
     },
     "output_type": "display_data"
    }
   ],
   "source": [
    "# plot hasil feature importances\n",
    "plt.figure(figsize = (10,7))\n",
    "feat_importances = pd.Series(model.feature_importances_, index = X.columns)\n",
    "feat_importances.nlargest(10).plot(kind='barh')\n",
    "plt.show()"
   ]
  },
  {
   "cell_type": "code",
   "execution_count": 60,
   "id": "f3fce9ed-268a-4931-b525-4da427809e14",
   "metadata": {},
   "outputs": [],
   "source": [
    "# masukkan hasil kedalam dataframe baru.\n",
    "col = feat_importances.nlargest(10).index.tolist()\n",
    "\n",
    "col.append(\"price_minmax\")\n",
    "\n",
    "df_new = df[col]"
   ]
  },
  {
   "cell_type": "code",
   "execution_count": 61,
   "id": "4fe32e0f-c7b5-4c53-bb73-a3e34f669640",
   "metadata": {},
   "outputs": [
    {
     "data": {
      "text/html": [
       "<div>\n",
       "<style scoped>\n",
       "    .dataframe tbody tr th:only-of-type {\n",
       "        vertical-align: middle;\n",
       "    }\n",
       "\n",
       "    .dataframe tbody tr th {\n",
       "        vertical-align: top;\n",
       "    }\n",
       "\n",
       "    .dataframe thead th {\n",
       "        text-align: right;\n",
       "    }\n",
       "</style>\n",
       "<table border=\"1\" class=\"dataframe\">\n",
       "  <thead>\n",
       "    <tr style=\"text-align: right;\">\n",
       "      <th></th>\n",
       "      <th>area_minmax</th>\n",
       "      <th>bathrooms_minmax</th>\n",
       "      <th>airconditioning_yes</th>\n",
       "      <th>furnishingstatus_enc</th>\n",
       "      <th>parking_minmax</th>\n",
       "      <th>stories_minmax</th>\n",
       "      <th>bedrooms_minmax</th>\n",
       "      <th>prefarea_yes</th>\n",
       "      <th>basement_yes</th>\n",
       "      <th>guestroom_yes</th>\n",
       "      <th>price_minmax</th>\n",
       "    </tr>\n",
       "  </thead>\n",
       "  <tbody>\n",
       "    <tr>\n",
       "      <th>0</th>\n",
       "      <td>0.669451</td>\n",
       "      <td>0.5</td>\n",
       "      <td>1</td>\n",
       "      <td>2.0</td>\n",
       "      <td>1.0</td>\n",
       "      <td>1.0</td>\n",
       "      <td>1.000000</td>\n",
       "      <td>1</td>\n",
       "      <td>0</td>\n",
       "      <td>0</td>\n",
       "      <td>1.0</td>\n",
       "    </tr>\n",
       "    <tr>\n",
       "      <th>1</th>\n",
       "      <td>0.848126</td>\n",
       "      <td>1.0</td>\n",
       "      <td>1</td>\n",
       "      <td>2.0</td>\n",
       "      <td>1.0</td>\n",
       "      <td>1.0</td>\n",
       "      <td>1.000000</td>\n",
       "      <td>0</td>\n",
       "      <td>0</td>\n",
       "      <td>0</td>\n",
       "      <td>1.0</td>\n",
       "    </tr>\n",
       "    <tr>\n",
       "      <th>2</th>\n",
       "      <td>0.964149</td>\n",
       "      <td>0.5</td>\n",
       "      <td>0</td>\n",
       "      <td>1.0</td>\n",
       "      <td>1.0</td>\n",
       "      <td>0.5</td>\n",
       "      <td>0.666667</td>\n",
       "      <td>1</td>\n",
       "      <td>1</td>\n",
       "      <td>0</td>\n",
       "      <td>1.0</td>\n",
       "    </tr>\n",
       "    <tr>\n",
       "      <th>3</th>\n",
       "      <td>0.678733</td>\n",
       "      <td>0.5</td>\n",
       "      <td>1</td>\n",
       "      <td>2.0</td>\n",
       "      <td>1.0</td>\n",
       "      <td>0.5</td>\n",
       "      <td>1.000000</td>\n",
       "      <td>1</td>\n",
       "      <td>1</td>\n",
       "      <td>0</td>\n",
       "      <td>1.0</td>\n",
       "    </tr>\n",
       "    <tr>\n",
       "      <th>4</th>\n",
       "      <td>0.669451</td>\n",
       "      <td>0.0</td>\n",
       "      <td>1</td>\n",
       "      <td>2.0</td>\n",
       "      <td>1.0</td>\n",
       "      <td>0.5</td>\n",
       "      <td>1.000000</td>\n",
       "      <td>0</td>\n",
       "      <td>1</td>\n",
       "      <td>1</td>\n",
       "      <td>1.0</td>\n",
       "    </tr>\n",
       "  </tbody>\n",
       "</table>\n",
       "</div>"
      ],
      "text/plain": [
       "   area_minmax  bathrooms_minmax  airconditioning_yes  furnishingstatus_enc  \\\n",
       "0     0.669451               0.5                    1                   2.0   \n",
       "1     0.848126               1.0                    1                   2.0   \n",
       "2     0.964149               0.5                    0                   1.0   \n",
       "3     0.678733               0.5                    1                   2.0   \n",
       "4     0.669451               0.0                    1                   2.0   \n",
       "\n",
       "   parking_minmax  stories_minmax  bedrooms_minmax  prefarea_yes  \\\n",
       "0             1.0             1.0         1.000000             1   \n",
       "1             1.0             1.0         1.000000             0   \n",
       "2             1.0             0.5         0.666667             1   \n",
       "3             1.0             0.5         1.000000             1   \n",
       "4             1.0             0.5         1.000000             0   \n",
       "\n",
       "   basement_yes  guestroom_yes  price_minmax  \n",
       "0             0              0           1.0  \n",
       "1             0              0           1.0  \n",
       "2             1              0           1.0  \n",
       "3             1              0           1.0  \n",
       "4             1              1           1.0  "
      ]
     },
     "execution_count": 61,
     "metadata": {},
     "output_type": "execute_result"
    }
   ],
   "source": [
    "df_new.head()"
   ]
  },
  {
   "cell_type": "markdown",
   "id": "9a183a10-d2c7-40e1-afff-d55b0b1cd183",
   "metadata": {},
   "source": [
    "## MODELING"
   ]
  },
  {
   "cell_type": "code",
   "execution_count": 62,
   "id": "27f35c83-343e-4be5-889d-4c0b798bff64",
   "metadata": {},
   "outputs": [
    {
     "name": "stdout",
     "output_type": "stream",
     "text": [
      "<class 'pandas.core.frame.DataFrame'>\n",
      "RangeIndex: 545 entries, 0 to 544\n",
      "Data columns (total 11 columns):\n",
      " #   Column                Non-Null Count  Dtype  \n",
      "---  ------                --------------  -----  \n",
      " 0   area_minmax           545 non-null    float64\n",
      " 1   bathrooms_minmax      545 non-null    float64\n",
      " 2   airconditioning_yes   545 non-null    uint8  \n",
      " 3   furnishingstatus_enc  545 non-null    float64\n",
      " 4   parking_minmax        545 non-null    float64\n",
      " 5   stories_minmax        545 non-null    float64\n",
      " 6   bedrooms_minmax       545 non-null    float64\n",
      " 7   prefarea_yes          545 non-null    uint8  \n",
      " 8   basement_yes          545 non-null    uint8  \n",
      " 9   guestroom_yes         545 non-null    uint8  \n",
      " 10  price_minmax          545 non-null    float64\n",
      "dtypes: float64(7), uint8(4)\n",
      "memory usage: 32.1 KB\n"
     ]
    }
   ],
   "source": [
    "df_new.info()"
   ]
  },
  {
   "cell_type": "markdown",
   "id": "09c9cb4b-5f69-448a-813b-d3d54638fdf6",
   "metadata": {},
   "source": [
    "### LINEAR"
   ]
  },
  {
   "cell_type": "markdown",
   "id": "23c44cd7-51e4-42ae-b02c-ca8999fbbd71",
   "metadata": {
    "tags": []
   },
   "source": [
    "#### 1. MULTIPLE LINEAR REGRESSION"
   ]
  },
  {
   "cell_type": "markdown",
   "id": "5d317fc0-eacb-499e-8a5b-1615fadee103",
   "metadata": {},
   "source": [
    "> Kita harus lakukan beberapa uji asumsi klasik :\n",
    "> 1. Linearity test, yaitu menguji apakah variabel X dan y berkolerasi linear. Kita dapat gunakan uji korelasi pearson, spearman, pairplot atau scatterplot.\n",
    "> 2. Normality (GOF) test, yaitu menguji apakah variabel berdistribusi normal (parametrik). Kita dapat gunakan test d'agostino(), Shapiro() atau QQ-plot.\n",
    "> 3. Multicolinearity, yaitu adanya korelasi yg kuat antar sesama variabel dependent (X). Kita dapat gunakan variance_inflation_factor() atau korelasi heatmap.\n",
    "> 4. Homoscedasticity, yaitu keadaan dimana variance tiap nilai residual (error) konstan. Kita dapat gunakan test bartlett(), levene() atau ANOVA."
   ]
  },
  {
   "cell_type": "code",
   "execution_count": 63,
   "id": "b766efcd-62b5-425c-bdac-5b98c9775f2f",
   "metadata": {},
   "outputs": [
    {
     "data": {
      "image/png": "[encoded data removed]",
      "text/plain": [
       "<Figure size 864x432 with 2 Axes>"
      ]
     },
     "metadata": {
      "needs_background": "light"
     },
     "output_type": "display_data"
    }
   ],
   "source": [
    "# cek korelasi dengan heatmap (menggunakan pearson untuk melihat linearity)\n",
    "plt.figure(figsize = (12,6))\n",
    "sns.heatmap(df_new.corr('pearson'), linewidths=0.5, annot = True)\n",
    "plt.show()"
   ]
  },
  {
   "cell_type": "code",
   "execution_count": 64,
   "id": "1af7bde6-ec0a-4c97-a3d1-4ff296ca8222",
   "metadata": {},
   "outputs": [
    {
     "data": {
      "image/png": "[encoded data removed]",
      "text/plain": [
       "<Figure size 1980x1980 with 132 Axes>"
      ]
     },
     "metadata": {
      "needs_background": "light"
     },
     "output_type": "display_data"
    }
   ],
   "source": [
    "# cek korelasi dengan pairplot\n",
    "sns.pairplot(df_new)\n",
    "plt.show()"
   ]
  },
  {
   "cell_type": "code",
   "execution_count": 65,
   "id": "8c9fdbef-921d-423c-b5e8-75e8ba58089f",
   "metadata": {},
   "outputs": [],
   "source": [
    "# fungsi untuk GOF test dengan d'agostino\n",
    "def gof_agostino(data, col):\n",
    "    k2, p_value = stats.normaltest(data[col])\n",
    "    if(p_value < 0.05):\n",
    "        return(f\"{col} - Distribution is not Normal (Reject Null Hypothesis)\\n\")\n",
    "    else:\n",
    "        return(f\"{col} - Distribution is Normal (Fail to Reject Null Hypothesis)\\n\")"
   ]
  },
  {
   "cell_type": "code",
   "execution_count": 66,
   "id": "857c8151-bdf6-4f73-b7d5-ec6e69f88273",
   "metadata": {},
   "outputs": [
    {
     "name": "stdout",
     "output_type": "stream",
     "text": [
      "area_minmax - Distribution is not Normal (Reject Null Hypothesis)\n",
      "\n",
      "bathrooms_minmax - Distribution is not Normal (Reject Null Hypothesis)\n",
      "\n",
      "airconditioning_yes - Distribution is not Normal (Reject Null Hypothesis)\n",
      "\n",
      "furnishingstatus_enc - Distribution is not Normal (Reject Null Hypothesis)\n",
      "\n",
      "parking_minmax - Distribution is not Normal (Reject Null Hypothesis)\n",
      "\n",
      "stories_minmax - Distribution is not Normal (Reject Null Hypothesis)\n",
      "\n",
      "bedrooms_minmax - Distribution is not Normal (Reject Null Hypothesis)\n",
      "\n",
      "prefarea_yes - Distribution is not Normal (Reject Null Hypothesis)\n",
      "\n",
      "basement_yes - Distribution is not Normal (Reject Null Hypothesis)\n",
      "\n",
      "guestroom_yes - Distribution is not Normal (Reject Null Hypothesis)\n",
      "\n",
      "price_minmax - Distribution is not Normal (Reject Null Hypothesis)\n",
      "\n"
     ]
    }
   ],
   "source": [
    "# cek hasil GOF\n",
    "for i in df_new:\n",
    "    print(gof_agostino(df_new, i))"
   ]
  },
  {
   "cell_type": "markdown",
   "id": "353250c3-a1ec-4960-a993-6c3a6f3ea1b6",
   "metadata": {},
   "source": [
    "> Dari hasil GOF Test diatas bisa kita katakan bahwa data ini tidak cocok digunakan untuk model Linear karena distribusinya tidak normal."
   ]
  },
  {
   "cell_type": "code",
   "execution_count": 67,
   "id": "1ccfcff0-2687-4e6f-9b00-614ebc436ff2",
   "metadata": {},
   "outputs": [],
   "source": [
    "# cek multicol dengan vif\n",
    "vif_data = pd.DataFrame()\n",
    "vif_data[\"feature\"] = df_new.columns"
   ]
  },
  {
   "cell_type": "code",
   "execution_count": 68,
   "id": "489ba586-0b05-4bce-86f7-413b72908c8b",
   "metadata": {},
   "outputs": [],
   "source": [
    "# cari nilai vif dengan loop\n",
    "vif_vals=[]\n",
    "for i in range(len(df_new.columns)):\n",
    "    vif_vals.append(variance_inflation_factor(df_new.values, i))"
   ]
  },
  {
   "cell_type": "code",
   "execution_count": 69,
   "id": "8acaa827-5e35-47aa-8bf9-aed5b60961e6",
   "metadata": {},
   "outputs": [],
   "source": [
    "# apply nilai\n",
    "vif_data[\"VIF\"] = vif_vals"
   ]
  },
  {
   "cell_type": "code",
   "execution_count": 70,
   "id": "a49293dd-204a-411b-83e1-ae048538181a",
   "metadata": {},
   "outputs": [
    {
     "data": {
      "text/html": [
       "<div>\n",
       "<style scoped>\n",
       "    .dataframe tbody tr th:only-of-type {\n",
       "        vertical-align: middle;\n",
       "    }\n",
       "\n",
       "    .dataframe tbody tr th {\n",
       "        vertical-align: top;\n",
       "    }\n",
       "\n",
       "    .dataframe thead th {\n",
       "        text-align: right;\n",
       "    }\n",
       "</style>\n",
       "<table border=\"1\" class=\"dataframe\">\n",
       "  <thead>\n",
       "    <tr style=\"text-align: right;\">\n",
       "      <th></th>\n",
       "      <th>feature</th>\n",
       "      <th>VIF</th>\n",
       "    </tr>\n",
       "  </thead>\n",
       "  <tbody>\n",
       "    <tr>\n",
       "      <th>0</th>\n",
       "      <td>area_minmax</td>\n",
       "      <td>5.974535</td>\n",
       "    </tr>\n",
       "    <tr>\n",
       "      <th>1</th>\n",
       "      <td>bathrooms_minmax</td>\n",
       "      <td>1.846079</td>\n",
       "    </tr>\n",
       "    <tr>\n",
       "      <th>2</th>\n",
       "      <td>airconditioning_yes</td>\n",
       "      <td>1.888357</td>\n",
       "    </tr>\n",
       "    <tr>\n",
       "      <th>3</th>\n",
       "      <td>furnishingstatus_enc</td>\n",
       "      <td>2.685004</td>\n",
       "    </tr>\n",
       "    <tr>\n",
       "      <th>4</th>\n",
       "      <td>parking_minmax</td>\n",
       "      <td>2.130148</td>\n",
       "    </tr>\n",
       "    <tr>\n",
       "      <th>5</th>\n",
       "      <td>stories_minmax</td>\n",
       "      <td>3.419088</td>\n",
       "    </tr>\n",
       "    <tr>\n",
       "      <th>6</th>\n",
       "      <td>bedrooms_minmax</td>\n",
       "      <td>7.072551</td>\n",
       "    </tr>\n",
       "    <tr>\n",
       "      <th>7</th>\n",
       "      <td>prefarea_yes</td>\n",
       "      <td>1.551703</td>\n",
       "    </tr>\n",
       "    <tr>\n",
       "      <th>8</th>\n",
       "      <td>basement_yes</td>\n",
       "      <td>2.026095</td>\n",
       "    </tr>\n",
       "    <tr>\n",
       "      <th>9</th>\n",
       "      <td>guestroom_yes</td>\n",
       "      <td>1.496613</td>\n",
       "    </tr>\n",
       "    <tr>\n",
       "      <th>10</th>\n",
       "      <td>price_minmax</td>\n",
       "      <td>11.896079</td>\n",
       "    </tr>\n",
       "  </tbody>\n",
       "</table>\n",
       "</div>"
      ],
      "text/plain": [
       "                 feature        VIF\n",
       "0            area_minmax   5.974535\n",
       "1       bathrooms_minmax   1.846079\n",
       "2    airconditioning_yes   1.888357\n",
       "3   furnishingstatus_enc   2.685004\n",
       "4         parking_minmax   2.130148\n",
       "5         stories_minmax   3.419088\n",
       "6        bedrooms_minmax   7.072551\n",
       "7           prefarea_yes   1.551703\n",
       "8           basement_yes   2.026095\n",
       "9          guestroom_yes   1.496613\n",
       "10          price_minmax  11.896079"
      ]
     },
     "execution_count": 70,
     "metadata": {},
     "output_type": "execute_result"
    }
   ],
   "source": [
    "# cek hasil\n",
    "vif_data"
   ]
  },
  {
   "cell_type": "markdown",
   "id": "11ac036e-6717-410a-be04-c97a42cb70d0",
   "metadata": {},
   "source": [
    "> Sebaiknya kita memilih VIF yang bernilai <5, tetapi VIF < 10 juga masih dapat diterima.\n",
    "\n",
    "> Maka dengan asumsi tersebut dapat dikatakan bahwa variabel price_minmax  memiliki multikolinearitas."
   ]
  },
  {
   "cell_type": "code",
   "execution_count": 71,
   "id": "de66a2e8-df9f-442c-a11a-cb1795e2470e",
   "metadata": {},
   "outputs": [],
   "source": [
    "# homoscedasticity test dengan levene\n",
    "def levene_test(data, dep, indep):\n",
    "    w_stats, p_value = stats.levene(data[dep], data[indep])\n",
    "    if(p_value < 0.05):\n",
    "        return(f\"{dep} and {indep} - Variance is not equal (Reject Null Hypothesis)\\n\")\n",
    "    else:\n",
    "        return(f\"{dep} and {indep} - Variance is equal (Fail to Reject Null Hypothesis)\\n\")"
   ]
  },
  {
   "cell_type": "code",
   "execution_count": 72,
   "id": "3edbd30b-67b3-4bea-89dc-0c92e33c1b8b",
   "metadata": {},
   "outputs": [
    {
     "name": "stdout",
     "output_type": "stream",
     "text": [
      "price_minmax and area_minmax - Variance is equal (Fail to Reject Null Hypothesis)\n",
      "\n",
      "price_minmax and bathrooms_minmax - Variance is not equal (Reject Null Hypothesis)\n",
      "\n",
      "price_minmax and airconditioning_yes - Variance is not equal (Reject Null Hypothesis)\n",
      "\n",
      "price_minmax and furnishingstatus_enc - Variance is not equal (Reject Null Hypothesis)\n",
      "\n",
      "price_minmax and parking_minmax - Variance is not equal (Reject Null Hypothesis)\n",
      "\n",
      "price_minmax and stories_minmax - Variance is not equal (Reject Null Hypothesis)\n",
      "\n",
      "price_minmax and bedrooms_minmax - Variance is not equal (Reject Null Hypothesis)\n",
      "\n",
      "price_minmax and prefarea_yes - Variance is not equal (Reject Null Hypothesis)\n",
      "\n",
      "price_minmax and basement_yes - Variance is not equal (Reject Null Hypothesis)\n",
      "\n",
      "price_minmax and guestroom_yes - Variance is equal (Fail to Reject Null Hypothesis)\n",
      "\n"
     ]
    }
   ],
   "source": [
    "# cek hasil homoscedasticity\n",
    "for i in df_new.drop(columns = \"price_minmax\"):\n",
    "    print(levene_test(df_new, \"price_minmax\", i))"
   ]
  },
  {
   "cell_type": "markdown",
   "id": "a57b135a-b1ee-4e89-96f7-61ca297e3da1",
   "metadata": {},
   "source": [
    "> Bisa kita lihat diatas, feature area_minmax dan guestroom_yes memiliki variance yg sama dengan price_minmax"
   ]
  },
  {
   "cell_type": "code",
   "execution_count": 73,
   "id": "3bd0c1d5-33fb-4658-8ba4-2bac2e1835e7",
   "metadata": {},
   "outputs": [],
   "source": [
    "# split target variable\n",
    "X = df_new.drop(columns = [\"price_minmax\"]).values\n",
    "y = df_new[\"price_minmax\"].values.reshape(-1,1)"
   ]
  },
  {
   "cell_type": "code",
   "execution_count": 74,
   "id": "ac500f59-9f97-4c10-a21a-2bf123e6c41b",
   "metadata": {},
   "outputs": [],
   "source": [
    "# train test split\n",
    "X_train, X_test, y_train, y_test = train_test_split(X,y, test_size = 0.2, random_state=0) # size test = 20%"
   ]
  },
  {
   "cell_type": "code",
   "execution_count": 75,
   "id": "149b7095-9d0d-42c1-b1e0-05f6da8458bf",
   "metadata": {},
   "outputs": [
    {
     "data": {
      "text/plain": [
       "LinearRegression()"
      ]
     },
     "execution_count": 75,
     "metadata": {},
     "output_type": "execute_result"
    }
   ],
   "source": [
    "# model train dan fitting\n",
    "model = LinearRegression()\n",
    "model.fit(X_train, y_train)"
   ]
  },
  {
   "cell_type": "code",
   "execution_count": 76,
   "id": "99b7cd85-384b-4d93-ba3d-2cb71dcbb7b9",
   "metadata": {},
   "outputs": [
    {
     "name": "stdout",
     "output_type": "stream",
     "text": [
      "slope: [[0.32761651 0.26466626 0.10196874 0.03519368 0.07476216 0.14660872\n",
      "  0.03421376 0.07862127 0.03807874 0.06043118]]\n",
      "intercept: [0.02877381]\n"
     ]
    }
   ],
   "source": [
    "# nilai slope dan intercept\n",
    "print(\"slope:\", model.coef_)\n",
    "print(\"intercept:\", model.intercept_)"
   ]
  },
  {
   "cell_type": "markdown",
   "id": "5310450c-6827-4fc8-ad1f-c35059eb47ea",
   "metadata": {},
   "source": [
    "> Maka kita dapat simpulkan hasil model adalah :\n",
    "\n",
    "> price_minmax = 0.02877 + (0.3276 * X1) + (0.2646 * X2) + (0.1019 * X3) + .. dst"
   ]
  },
  {
   "cell_type": "code",
   "execution_count": 77,
   "id": "36d0abb1-3f4c-4a68-b34b-8d86a160331e",
   "metadata": {},
   "outputs": [],
   "source": [
    "# buat ypredict\n",
    "y_pred = model.predict(X_test)"
   ]
  },
  {
   "cell_type": "code",
   "execution_count": 78,
   "id": "109f7244-09fd-4bab-aba8-2a8e901b6294",
   "metadata": {},
   "outputs": [],
   "source": [
    "# buat df untuk store hasil actual vs pred\n",
    "result = pd.DataFrame()\n",
    "\n",
    "for i in range (10):\n",
    "    result[f\"X{i+1}\"] = [j[i] for j in X_test]\n",
    "\n",
    "result[\"y_act\"] = [i for i in y_test.flatten()]\n",
    "result[\"y_pred\"] = y_pred.flatten()"
   ]
  },
  {
   "cell_type": "code",
   "execution_count": 79,
   "id": "59879d04-8d89-42ac-bcee-85ba198bc63c",
   "metadata": {},
   "outputs": [
    {
     "data": {
      "text/html": [
       "<div>\n",
       "<style scoped>\n",
       "    .dataframe tbody tr th:only-of-type {\n",
       "        vertical-align: middle;\n",
       "    }\n",
       "\n",
       "    .dataframe tbody tr th {\n",
       "        vertical-align: top;\n",
       "    }\n",
       "\n",
       "    .dataframe thead th {\n",
       "        text-align: right;\n",
       "    }\n",
       "</style>\n",
       "<table border=\"1\" class=\"dataframe\">\n",
       "  <thead>\n",
       "    <tr style=\"text-align: right;\">\n",
       "      <th></th>\n",
       "      <th>X1</th>\n",
       "      <th>X2</th>\n",
       "      <th>X3</th>\n",
       "      <th>X4</th>\n",
       "      <th>X5</th>\n",
       "      <th>X6</th>\n",
       "      <th>X7</th>\n",
       "      <th>X8</th>\n",
       "      <th>X9</th>\n",
       "      <th>X10</th>\n",
       "      <th>y_act</th>\n",
       "      <th>y_pred</th>\n",
       "    </tr>\n",
       "  </thead>\n",
       "  <tbody>\n",
       "    <tr>\n",
       "      <th>0</th>\n",
       "      <td>0.272653</td>\n",
       "      <td>0.0</td>\n",
       "      <td>0.0</td>\n",
       "      <td>2.0</td>\n",
       "      <td>0.5</td>\n",
       "      <td>0.5</td>\n",
       "      <td>0.666667</td>\n",
       "      <td>0.0</td>\n",
       "      <td>0.0</td>\n",
       "      <td>0.0</td>\n",
       "      <td>0.385714</td>\n",
       "      <td>0.321982</td>\n",
       "    </tr>\n",
       "    <tr>\n",
       "      <th>1</th>\n",
       "      <td>0.924701</td>\n",
       "      <td>0.0</td>\n",
       "      <td>0.0</td>\n",
       "      <td>2.0</td>\n",
       "      <td>1.0</td>\n",
       "      <td>0.0</td>\n",
       "      <td>0.666667</td>\n",
       "      <td>1.0</td>\n",
       "      <td>1.0</td>\n",
       "      <td>0.0</td>\n",
       "      <td>0.589524</td>\n",
       "      <td>0.616380</td>\n",
       "    </tr>\n",
       "    <tr>\n",
       "      <th>2</th>\n",
       "      <td>0.210001</td>\n",
       "      <td>0.0</td>\n",
       "      <td>1.0</td>\n",
       "      <td>1.0</td>\n",
       "      <td>0.0</td>\n",
       "      <td>0.5</td>\n",
       "      <td>1.000000</td>\n",
       "      <td>0.0</td>\n",
       "      <td>0.0</td>\n",
       "      <td>0.0</td>\n",
       "      <td>0.307143</td>\n",
       "      <td>0.342254</td>\n",
       "    </tr>\n",
       "    <tr>\n",
       "      <th>3</th>\n",
       "      <td>1.000000</td>\n",
       "      <td>0.0</td>\n",
       "      <td>0.0</td>\n",
       "      <td>2.0</td>\n",
       "      <td>0.5</td>\n",
       "      <td>0.0</td>\n",
       "      <td>0.333333</td>\n",
       "      <td>0.0</td>\n",
       "      <td>1.0</td>\n",
       "      <td>0.0</td>\n",
       "      <td>0.704762</td>\n",
       "      <td>0.513642</td>\n",
       "    </tr>\n",
       "    <tr>\n",
       "      <th>4</th>\n",
       "      <td>0.233206</td>\n",
       "      <td>0.0</td>\n",
       "      <td>0.0</td>\n",
       "      <td>0.0</td>\n",
       "      <td>0.0</td>\n",
       "      <td>0.5</td>\n",
       "      <td>1.000000</td>\n",
       "      <td>0.0</td>\n",
       "      <td>0.0</td>\n",
       "      <td>0.0</td>\n",
       "      <td>0.161905</td>\n",
       "      <td>0.212694</td>\n",
       "    </tr>\n",
       "  </tbody>\n",
       "</table>\n",
       "</div>"
      ],
      "text/plain": [
       "         X1   X2   X3   X4   X5   X6        X7   X8   X9  X10     y_act  \\\n",
       "0  0.272653  0.0  0.0  2.0  0.5  0.5  0.666667  0.0  0.0  0.0  0.385714   \n",
       "1  0.924701  0.0  0.0  2.0  1.0  0.0  0.666667  1.0  1.0  0.0  0.589524   \n",
       "2  0.210001  0.0  1.0  1.0  0.0  0.5  1.000000  0.0  0.0  0.0  0.307143   \n",
       "3  1.000000  0.0  0.0  2.0  0.5  0.0  0.333333  0.0  1.0  0.0  0.704762   \n",
       "4  0.233206  0.0  0.0  0.0  0.0  0.5  1.000000  0.0  0.0  0.0  0.161905   \n",
       "\n",
       "     y_pred  \n",
       "0  0.321982  \n",
       "1  0.616380  \n",
       "2  0.342254  \n",
       "3  0.513642  \n",
       "4  0.212694  "
      ]
     },
     "execution_count": 79,
     "metadata": {},
     "output_type": "execute_result"
    }
   ],
   "source": [
    "#cek hasil\n",
    "result.head()"
   ]
  },
  {
   "cell_type": "markdown",
   "id": "3b6cfeb2-f635-417f-bfd4-f17c97037674",
   "metadata": {
    "tags": []
   },
   "source": [
    "##### MODEL SCORE"
   ]
  },
  {
   "cell_type": "code",
   "execution_count": 80,
   "id": "e53e13a5-1abc-493d-97b1-a277fbc29297",
   "metadata": {},
   "outputs": [
    {
     "data": {
      "text/plain": [
       "0.65"
      ]
     },
     "execution_count": 80,
     "metadata": {},
     "output_type": "execute_result"
    }
   ],
   "source": [
    "# gunakan r2_score dari sklearn untuk melihat r2 scorenya\n",
    "round(metrics.r2_score(y_test, y_pred), 2)"
   ]
  },
  {
   "cell_type": "markdown",
   "id": "ba4bfbdf-3cf3-4c05-93d8-3a6f61c464d0",
   "metadata": {},
   "source": [
    "> Dari hasil diatas , dapat disimpulkan bahwa variabel X1 sampai dengan X10 berpengaruh secara bersama sama terhadap variabel y (price_minmax) sebesar 65% (0.65).\n",
    "Sedangkan sisanya dipengaruhi oleh variabel lain diluar persamaan ini"
   ]
  },
  {
   "cell_type": "markdown",
   "id": "eca1ae21-e658-4d5e-8f1c-f4082fa501b4",
   "metadata": {
    "tags": []
   },
   "source": [
    "##### MODEL EVALUATION"
   ]
  },
  {
   "cell_type": "code",
   "execution_count": 81,
   "id": "bf02d093-ab79-4f8c-9482-b649346d5d2c",
   "metadata": {},
   "outputs": [
    {
     "name": "stdout",
     "output_type": "stream",
     "text": [
      "Mean Absolute Error (MAE):  0.09084143332081497\n"
     ]
    }
   ],
   "source": [
    "print(\"Mean Absolute Error (MAE): \", metrics.mean_absolute_error(y_test, y_pred))"
   ]
  },
  {
   "cell_type": "markdown",
   "id": "90e78007-90fb-415e-bdf5-89b62d0c6507",
   "metadata": {
    "tags": []
   },
   "source": [
    "### NON LINEAR"
   ]
  },
  {
   "cell_type": "markdown",
   "id": "b6e58d16-6c43-4014-abcb-5c45c6d163f5",
   "metadata": {},
   "source": [
    "#### DECISION TREE"
   ]
  },
  {
   "cell_type": "code",
   "execution_count": 82,
   "id": "27a2141c-acd7-4d83-ad78-a22bc9030821",
   "metadata": {},
   "outputs": [
    {
     "data": {
      "text/html": [
       "<div>\n",
       "<style scoped>\n",
       "    .dataframe tbody tr th:only-of-type {\n",
       "        vertical-align: middle;\n",
       "    }\n",
       "\n",
       "    .dataframe tbody tr th {\n",
       "        vertical-align: top;\n",
       "    }\n",
       "\n",
       "    .dataframe thead th {\n",
       "        text-align: right;\n",
       "    }\n",
       "</style>\n",
       "<table border=\"1\" class=\"dataframe\">\n",
       "  <thead>\n",
       "    <tr style=\"text-align: right;\">\n",
       "      <th></th>\n",
       "      <th>area_minmax</th>\n",
       "      <th>bathrooms_minmax</th>\n",
       "      <th>airconditioning_yes</th>\n",
       "      <th>furnishingstatus_enc</th>\n",
       "      <th>parking_minmax</th>\n",
       "      <th>stories_minmax</th>\n",
       "      <th>bedrooms_minmax</th>\n",
       "      <th>prefarea_yes</th>\n",
       "      <th>basement_yes</th>\n",
       "      <th>guestroom_yes</th>\n",
       "      <th>price_minmax</th>\n",
       "    </tr>\n",
       "  </thead>\n",
       "  <tbody>\n",
       "    <tr>\n",
       "      <th>0</th>\n",
       "      <td>0.669451</td>\n",
       "      <td>0.5</td>\n",
       "      <td>1</td>\n",
       "      <td>2.0</td>\n",
       "      <td>1.0</td>\n",
       "      <td>1.0</td>\n",
       "      <td>1.000000</td>\n",
       "      <td>1</td>\n",
       "      <td>0</td>\n",
       "      <td>0</td>\n",
       "      <td>1.0</td>\n",
       "    </tr>\n",
       "    <tr>\n",
       "      <th>1</th>\n",
       "      <td>0.848126</td>\n",
       "      <td>1.0</td>\n",
       "      <td>1</td>\n",
       "      <td>2.0</td>\n",
       "      <td>1.0</td>\n",
       "      <td>1.0</td>\n",
       "      <td>1.000000</td>\n",
       "      <td>0</td>\n",
       "      <td>0</td>\n",
       "      <td>0</td>\n",
       "      <td>1.0</td>\n",
       "    </tr>\n",
       "    <tr>\n",
       "      <th>2</th>\n",
       "      <td>0.964149</td>\n",
       "      <td>0.5</td>\n",
       "      <td>0</td>\n",
       "      <td>1.0</td>\n",
       "      <td>1.0</td>\n",
       "      <td>0.5</td>\n",
       "      <td>0.666667</td>\n",
       "      <td>1</td>\n",
       "      <td>1</td>\n",
       "      <td>0</td>\n",
       "      <td>1.0</td>\n",
       "    </tr>\n",
       "    <tr>\n",
       "      <th>3</th>\n",
       "      <td>0.678733</td>\n",
       "      <td>0.5</td>\n",
       "      <td>1</td>\n",
       "      <td>2.0</td>\n",
       "      <td>1.0</td>\n",
       "      <td>0.5</td>\n",
       "      <td>1.000000</td>\n",
       "      <td>1</td>\n",
       "      <td>1</td>\n",
       "      <td>0</td>\n",
       "      <td>1.0</td>\n",
       "    </tr>\n",
       "    <tr>\n",
       "      <th>4</th>\n",
       "      <td>0.669451</td>\n",
       "      <td>0.0</td>\n",
       "      <td>1</td>\n",
       "      <td>2.0</td>\n",
       "      <td>1.0</td>\n",
       "      <td>0.5</td>\n",
       "      <td>1.000000</td>\n",
       "      <td>0</td>\n",
       "      <td>1</td>\n",
       "      <td>1</td>\n",
       "      <td>1.0</td>\n",
       "    </tr>\n",
       "  </tbody>\n",
       "</table>\n",
       "</div>"
      ],
      "text/plain": [
       "   area_minmax  bathrooms_minmax  airconditioning_yes  furnishingstatus_enc  \\\n",
       "0     0.669451               0.5                    1                   2.0   \n",
       "1     0.848126               1.0                    1                   2.0   \n",
       "2     0.964149               0.5                    0                   1.0   \n",
       "3     0.678733               0.5                    1                   2.0   \n",
       "4     0.669451               0.0                    1                   2.0   \n",
       "\n",
       "   parking_minmax  stories_minmax  bedrooms_minmax  prefarea_yes  \\\n",
       "0             1.0             1.0         1.000000             1   \n",
       "1             1.0             1.0         1.000000             0   \n",
       "2             1.0             0.5         0.666667             1   \n",
       "3             1.0             0.5         1.000000             1   \n",
       "4             1.0             0.5         1.000000             0   \n",
       "\n",
       "   basement_yes  guestroom_yes  price_minmax  \n",
       "0             0              0           1.0  \n",
       "1             0              0           1.0  \n",
       "2             1              0           1.0  \n",
       "3             1              0           1.0  \n",
       "4             1              1           1.0  "
      ]
     },
     "execution_count": 82,
     "metadata": {},
     "output_type": "execute_result"
    }
   ],
   "source": [
    "df_new.head()"
   ]
  },
  {
   "cell_type": "code",
   "execution_count": 83,
   "id": "e0366807-78b0-4ed4-9fb9-2f931371c6f8",
   "metadata": {},
   "outputs": [],
   "source": [
    "# split target variable\n",
    "X = df_new.drop(columns = [\"price_minmax\"])\n",
    "y = df_new[\"price_minmax\"]"
   ]
  },
  {
   "cell_type": "code",
   "execution_count": 84,
   "id": "18db0812-90fa-46d3-a036-aa78704da408",
   "metadata": {},
   "outputs": [],
   "source": [
    "#train test split\n",
    "X_train, X_test, y_train, y_test = train_test_split(X, y, test_size = 0.2, random_state = 0) # size test = 20%"
   ]
  },
  {
   "cell_type": "code",
   "execution_count": 85,
   "id": "9044a1d1-84fc-4648-8f83-58d02374a1cc",
   "metadata": {
    "tags": []
   },
   "outputs": [
    {
     "data": {
      "text/plain": [
       "DecisionTreeRegressor()"
      ]
     },
     "execution_count": 85,
     "metadata": {},
     "output_type": "execute_result"
    }
   ],
   "source": [
    "# model train dan fitting\n",
    "model = DecisionTreeRegressor()\n",
    "model.fit(X_train, y_train)"
   ]
  },
  {
   "cell_type": "code",
   "execution_count": 86,
   "id": "492ba5b3-1ee3-49c7-823f-72d4b7664450",
   "metadata": {},
   "outputs": [],
   "source": [
    "# buat y predict\n",
    "y_pred = model.predict(X_test)"
   ]
  },
  {
   "cell_type": "code",
   "execution_count": 87,
   "id": "bcd4aa70-2a09-4174-aca5-b31a4bb08d26",
   "metadata": {},
   "outputs": [],
   "source": [
    "# buat df untuk store hasil actual vs pred\n",
    "result = pd.DataFrame()\n",
    "result[\"y_act\"] = y_test\n",
    "result[\"y_pred\"] = y_pred"
   ]
  },
  {
   "cell_type": "code",
   "execution_count": 88,
   "id": "b7688782-fe27-4008-8615-9c771b0298e2",
   "metadata": {},
   "outputs": [
    {
     "data": {
      "text/html": [
       "<div>\n",
       "<style scoped>\n",
       "    .dataframe tbody tr th:only-of-type {\n",
       "        vertical-align: middle;\n",
       "    }\n",
       "\n",
       "    .dataframe tbody tr th {\n",
       "        vertical-align: top;\n",
       "    }\n",
       "\n",
       "    .dataframe thead th {\n",
       "        text-align: right;\n",
       "    }\n",
       "</style>\n",
       "<table border=\"1\" class=\"dataframe\">\n",
       "  <thead>\n",
       "    <tr style=\"text-align: right;\">\n",
       "      <th></th>\n",
       "      <th>y_act</th>\n",
       "      <th>y_pred</th>\n",
       "    </tr>\n",
       "  </thead>\n",
       "  <tbody>\n",
       "    <tr>\n",
       "      <th>239</th>\n",
       "      <td>0.385714</td>\n",
       "      <td>0.429524</td>\n",
       "    </tr>\n",
       "    <tr>\n",
       "      <th>113</th>\n",
       "      <td>0.589524</td>\n",
       "      <td>0.560952</td>\n",
       "    </tr>\n",
       "    <tr>\n",
       "      <th>325</th>\n",
       "      <td>0.307143</td>\n",
       "      <td>0.461905</td>\n",
       "    </tr>\n",
       "    <tr>\n",
       "      <th>66</th>\n",
       "      <td>0.704762</td>\n",
       "      <td>0.523810</td>\n",
       "    </tr>\n",
       "    <tr>\n",
       "      <th>479</th>\n",
       "      <td>0.161905</td>\n",
       "      <td>0.238095</td>\n",
       "    </tr>\n",
       "  </tbody>\n",
       "</table>\n",
       "</div>"
      ],
      "text/plain": [
       "        y_act    y_pred\n",
       "239  0.385714  0.429524\n",
       "113  0.589524  0.560952\n",
       "325  0.307143  0.461905\n",
       "66   0.704762  0.523810\n",
       "479  0.161905  0.238095"
      ]
     },
     "execution_count": 88,
     "metadata": {},
     "output_type": "execute_result"
    }
   ],
   "source": [
    "# cek hasil\n",
    "result.head()"
   ]
  },
  {
   "cell_type": "code",
   "execution_count": 89,
   "id": "1fd3be8a-82ff-4757-92ab-969e3828da7e",
   "metadata": {},
   "outputs": [
    {
     "name": "stdout",
     "output_type": "stream",
     "text": [
      "R2 Score: 0.19\n",
      "Mean Absolute Error (MAE):  0.14363040629095675\n"
     ]
    }
   ],
   "source": [
    "# evaluasi gunakan r2 score dan mae dari sklearn\n",
    "print(\"R2 Score:\", round(metrics.r2_score(y_test, y_pred), 2))\n",
    "print(\"Mean Absolute Error (MAE): \", metrics.mean_absolute_error(y_test, y_pred))"
   ]
  },
  {
   "cell_type": "code",
   "execution_count": 90,
   "id": "cb486310-95c5-49a2-86ba-ce3feba0ba38",
   "metadata": {},
   "outputs": [],
   "source": [
    "# buat kolom untuk nama feature dalam visualisasi\n",
    "DT_cols = X_train.columns.tolist()"
   ]
  },
  {
   "cell_type": "code",
   "execution_count": 91,
   "id": "bcc10312-1f0a-42ee-a4c1-8274b1813e78",
   "metadata": {},
   "outputs": [
    {
     "data": {
      "image/png": "[encoded data removed]",
      "text/plain": [
       "<Figure size 1440x720 with 1 Axes>"
      ]
     },
     "metadata": {
      "needs_background": "light"
     },
     "output_type": "display_data"
    }
   ],
   "source": [
    "# plot decision tree\n",
    "plt.figure(figsize = (20,10))\n",
    "plot_tree(model,\n",
    "          feature_names = DT_cols, impurity = True,\n",
    "          fontsize = 10, max_depth = 3,\n",
    "          filled = True)\n",
    "plt.show()"
   ]
  },
  {
   "cell_type": "code",
   "execution_count": 92,
   "id": "a19309d3-6e2d-4cfa-857a-64951fedcd5b",
   "metadata": {},
   "outputs": [],
   "source": [
    "# save dan buka dengan graphviz\n",
    "export_graphviz(model.fit(X_train, y_train),\n",
    "                out_file = 'dtree_viz.dot',\n",
    "                impurity = True,\n",
    "                feature_names = DT_cols)"
   ]
  },
  {
   "cell_type": "markdown",
   "id": "4f1bd35f-0662-4448-8311-f1288aa4468d",
   "metadata": {},
   "source": [
    "> copy dan paste hasil out_file .dot pada link ini : http://dreampuf.github.io/GraphvizOnline"
   ]
  }
 ],
 "metadata": {
  "kernelspec": {
   "display_name": "Python 3 (ipykernel)",
   "language": "python",
   "name": "python3"
  },
  "language_info": {
   "codemirror_mode": {
    "name": "ipython",
    "version": 3
   },
   "file_extension": ".py",
   "mimetype": "text/x-python",
   "name": "python",
   "nbconvert_exporter": "python",
   "pygments_lexer": "ipython3",
   "version": "3.9.12"
  }
 },
 "nbformat": 4,
 "nbformat_minor": 5
}
